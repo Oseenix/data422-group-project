{
 "cells": [
  {
   "cell_type": "raw",
   "metadata": {},
   "source": [
    "# Data 422 Group Assignment - Team Asclepius"
   ]
  },
  {
   "cell_type": "raw",
   "metadata": {},
   "source": [
    "Step 1 : Retrieve data from website\n",
    "\n",
    "Retrieve CPI data from https://www.rateinflation.com/consumer-price-index/new-zealand-historical-cpi/"
   ]
  },
  {
   "cell_type": "code",
   "execution_count": 1,
   "metadata": {},
   "outputs": [
    {
     "name": "stderr",
     "output_type": "stream",
     "text": [
      "── \u001b[1mAttaching packages\u001b[22m ─────────────────────────────────────────────────────────────────────────────── tidyverse 1.3.2 ──\n",
      "\u001b[32m✔\u001b[39m \u001b[34mggplot2\u001b[39m 3.3.6     \u001b[32m✔\u001b[39m \u001b[34mpurrr  \u001b[39m 0.3.4\n",
      "\u001b[32m✔\u001b[39m \u001b[34mtibble \u001b[39m 3.1.8     \u001b[32m✔\u001b[39m \u001b[34mdplyr  \u001b[39m 1.0.9\n",
      "\u001b[32m✔\u001b[39m \u001b[34mtidyr  \u001b[39m 1.2.0     \u001b[32m✔\u001b[39m \u001b[34mstringr\u001b[39m 1.4.0\n",
      "\u001b[32m✔\u001b[39m \u001b[34mreadr  \u001b[39m 2.1.2     \u001b[32m✔\u001b[39m \u001b[34mforcats\u001b[39m 0.5.1\n",
      "── \u001b[1mConflicts\u001b[22m ────────────────────────────────────────────────────────────────────────────────── tidyverse_conflicts() ──\n",
      "\u001b[31m✖\u001b[39m \u001b[34mdplyr\u001b[39m::\u001b[32mfilter()\u001b[39m masks \u001b[34mstats\u001b[39m::filter()\n",
      "\u001b[31m✖\u001b[39m \u001b[34mdplyr\u001b[39m::\u001b[32mlag()\u001b[39m    masks \u001b[34mstats\u001b[39m::lag()\n",
      "\n",
      "Attaching package: 'rvest'\n",
      "\n",
      "\n",
      "The following object is masked from 'package:readr':\n",
      "\n",
      "    guess_encoding\n",
      "\n",
      "\n"
     ]
    }
   ],
   "source": [
    "library(tidyverse)\n",
    "library(rvest)\n",
    "library(xml2)"
   ]
  },
  {
   "cell_type": "code",
   "execution_count": 2,
   "metadata": {},
   "outputs": [
    {
     "name": "stdout",
     "output_type": "stream",
     "text": [
      "List of 2\n",
      " $ node:<externalptr> \n",
      " $ doc :<externalptr> \n",
      " - attr(*, \"class\")= chr [1:2] \"xml_document\" \"xml_node\"\n"
     ]
    }
   ],
   "source": [
    "url_reviews_page <- \"https://www.rateinflation.com/consumer-price-index/new-zealand-historical-cpi/\"\n",
    "\n",
    "page_reviews <- read_html(url_reviews_page)\n",
    "\n",
    "str(page_reviews)"
   ]
  },
  {
   "cell_type": "code",
   "execution_count": 3,
   "metadata": {},
   "outputs": [
    {
     "data": {
      "text/html": [
       "'list'"
      ],
      "text/latex": [
       "'list'"
      ],
      "text/markdown": [
       "'list'"
      ],
      "text/plain": [
       "[1] \"list\""
      ]
     },
     "metadata": {},
     "output_type": "display_data"
    },
    {
     "name": "stdout",
     "output_type": "stream",
     "text": [
      "List of 2\n",
      " $ node:<externalptr> \n",
      " $ doc :<externalptr> \n",
      " - attr(*, \"class\")= chr [1:2] \"xml_document\" \"xml_node\"\n"
     ]
    }
   ],
   "source": [
    "page_reviews %>% typeof()\n",
    "page_reviews %>% glimpse()"
   ]
  },
  {
   "cell_type": "code",
   "execution_count": 4,
   "metadata": {},
   "outputs": [
    {
     "data": {
      "text/plain": [
       "{xml_nodeset (1)}\n",
       "[1] <table class=\"css-8rh80p eyyd7td0\">\\n<style data-emotion-css=\"1ctn0ky\">.c ..."
      ]
     },
     "metadata": {},
     "output_type": "display_data"
    }
   ],
   "source": [
    "popNodes <- html_nodes(page_reviews, \"table\")\n",
    "popNodes"
   ]
  },
  {
   "cell_type": "code",
   "execution_count": 5,
   "metadata": {},
   "outputs": [
    {
     "name": "stdout",
     "output_type": "stream",
     "text": [
      "tibble [97 × 6] (S3: tbl_df/tbl/data.frame)\n",
      " $ Year  : int [1:97] 2022 2021 2020 2019 2018 2017 2016 2015 2014 2013 ...\n",
      " $ mar   : chr [1:97] \"1,142.0\" \"1,068.0\" \"1,052.0\" \"1,026.0\" ...\n",
      " $ jun   : chr [1:97] \"1,161.0\" \"1,082.0\" \"1,047.0\" \"1,032.0\" ...\n",
      " $ sep   : chr [1:97] \"\" \"1,106.0\" \"1,054.0\" \"1,039.0\" ...\n",
      " $ dec   : chr [1:97] \"\" \"1,122.0\" \"1,059.0\" \"1,044.0\" ...\n",
      " $ Annual: chr [1:97] \"\" \"1,094.5\" \"1,053.0\" \"1,035.3\" ...\n"
     ]
    }
   ],
   "source": [
    "pop <- html_table(popNodes, header = TRUE, fill = TRUE)[[1]]\n",
    "str(pop)"
   ]
  },
  {
   "cell_type": "code",
   "execution_count": 6,
   "metadata": {},
   "outputs": [
    {
     "data": {
      "text/html": [
       "<table class=\"dataframe\">\n",
       "<caption>A tibble: 6 × 6</caption>\n",
       "<thead>\n",
       "\t<tr><th scope=col>Year</th><th scope=col>mar</th><th scope=col>jun</th><th scope=col>sep</th><th scope=col>dec</th><th scope=col>Annual</th></tr>\n",
       "\t<tr><th scope=col>&lt;int&gt;</th><th scope=col>&lt;chr&gt;</th><th scope=col>&lt;chr&gt;</th><th scope=col>&lt;chr&gt;</th><th scope=col>&lt;chr&gt;</th><th scope=col>&lt;chr&gt;</th></tr>\n",
       "</thead>\n",
       "<tbody>\n",
       "\t<tr><td>2022</td><td>1,142.0</td><td>1,161.0</td><td>       </td><td>       </td><td>       </td></tr>\n",
       "\t<tr><td>2021</td><td>1,068.0</td><td>1,082.0</td><td>1,106.0</td><td>1,122.0</td><td>1,094.5</td></tr>\n",
       "\t<tr><td>2020</td><td>1,052.0</td><td>1,047.0</td><td>1,054.0</td><td>1,059.0</td><td>1,053.0</td></tr>\n",
       "\t<tr><td>2019</td><td>1,026.0</td><td>1,032.0</td><td>1,039.0</td><td>1,044.0</td><td>1,035.3</td></tr>\n",
       "\t<tr><td>2018</td><td>1,011.0</td><td>1,015.0</td><td>1,024.0</td><td>1,025.0</td><td>1,018.8</td></tr>\n",
       "\t<tr><td>2017</td><td>1,000.0</td><td>1,000.0</td><td>1,004.9</td><td>1,006.0</td><td>1,002.7</td></tr>\n",
       "</tbody>\n",
       "</table>\n"
      ],
      "text/latex": [
       "A tibble: 6 × 6\n",
       "\\begin{tabular}{llllll}\n",
       " Year & mar & jun & sep & dec & Annual\\\\\n",
       " <int> & <chr> & <chr> & <chr> & <chr> & <chr>\\\\\n",
       "\\hline\n",
       "\t 2022 & 1,142.0 & 1,161.0 &         &         &        \\\\\n",
       "\t 2021 & 1,068.0 & 1,082.0 & 1,106.0 & 1,122.0 & 1,094.5\\\\\n",
       "\t 2020 & 1,052.0 & 1,047.0 & 1,054.0 & 1,059.0 & 1,053.0\\\\\n",
       "\t 2019 & 1,026.0 & 1,032.0 & 1,039.0 & 1,044.0 & 1,035.3\\\\\n",
       "\t 2018 & 1,011.0 & 1,015.0 & 1,024.0 & 1,025.0 & 1,018.8\\\\\n",
       "\t 2017 & 1,000.0 & 1,000.0 & 1,004.9 & 1,006.0 & 1,002.7\\\\\n",
       "\\end{tabular}\n"
      ],
      "text/markdown": [
       "\n",
       "A tibble: 6 × 6\n",
       "\n",
       "| Year &lt;int&gt; | mar &lt;chr&gt; | jun &lt;chr&gt; | sep &lt;chr&gt; | dec &lt;chr&gt; | Annual &lt;chr&gt; |\n",
       "|---|---|---|---|---|---|\n",
       "| 2022 | 1,142.0 | 1,161.0 | <!----> | <!----> | <!----> |\n",
       "| 2021 | 1,068.0 | 1,082.0 | 1,106.0 | 1,122.0 | 1,094.5 |\n",
       "| 2020 | 1,052.0 | 1,047.0 | 1,054.0 | 1,059.0 | 1,053.0 |\n",
       "| 2019 | 1,026.0 | 1,032.0 | 1,039.0 | 1,044.0 | 1,035.3 |\n",
       "| 2018 | 1,011.0 | 1,015.0 | 1,024.0 | 1,025.0 | 1,018.8 |\n",
       "| 2017 | 1,000.0 | 1,000.0 | 1,004.9 | 1,006.0 | 1,002.7 |\n",
       "\n"
      ],
      "text/plain": [
       "  Year mar     jun     sep     dec     Annual \n",
       "1 2022 1,142.0 1,161.0                        \n",
       "2 2021 1,068.0 1,082.0 1,106.0 1,122.0 1,094.5\n",
       "3 2020 1,052.0 1,047.0 1,054.0 1,059.0 1,053.0\n",
       "4 2019 1,026.0 1,032.0 1,039.0 1,044.0 1,035.3\n",
       "5 2018 1,011.0 1,015.0 1,024.0 1,025.0 1,018.8\n",
       "6 2017 1,000.0 1,000.0 1,004.9 1,006.0 1,002.7"
      ]
     },
     "metadata": {},
     "output_type": "display_data"
    }
   ],
   "source": [
    "#display first couple of rows\n",
    "head(pop)"
   ]
  },
  {
   "cell_type": "code",
   "execution_count": null,
   "metadata": {},
   "outputs": [],
   "source": []
  }
 ],
 "metadata": {
  "kernelspec": {
   "display_name": "R",
   "language": "R",
   "name": "ir"
  },
  "language_info": {
   "codemirror_mode": "r",
   "file_extension": ".r",
   "mimetype": "text/x-r-source",
   "name": "R",
   "pygments_lexer": "r",
   "version": "4.2.1"
  }
 },
 "nbformat": 4,
 "nbformat_minor": 4
}
