{
 "cells": [
  {
   "cell_type": "code",
   "execution_count": 7,
   "metadata": {},
   "outputs": [
    {
     "data": {
      "text/plain": [
       "\"/Users/zhoujinze/Documents/DataScience/ds-assessment/DATA-422/group project/data422-group-project\""
      ]
     },
     "execution_count": 7,
     "metadata": {},
     "output_type": "execute_result"
    }
   ],
   "source": [
    "using Pkg\n",
    "using HTTP\n",
    "using JSON\n",
    "using Dates\n",
    "using DataFrames\n",
    "using CSV\n",
    "\n",
    "dir = @__DIR__"
   ]
  },
  {
   "cell_type": "markdown",
   "metadata": {},
   "source": [
    "## Use API to download OCR(Official cash rates) data form interest.co.nz"
   ]
  },
  {
   "cell_type": "code",
   "execution_count": 4,
   "metadata": {},
   "outputs": [
    {
     "data": {
      "text/plain": [
       "\"/Users/zhoujinze/Documents/DataScience/ds-assessment/DATA-422/group project/data422-group-project/data/aa\""
      ]
     },
     "execution_count": 4,
     "metadata": {},
     "output_type": "execute_result"
    }
   ],
   "source": [
    "path = dir * \"/data/\" * \"aa\""
   ]
  },
  {
   "cell_type": "code",
   "execution_count": 9,
   "metadata": {},
   "outputs": [
    {
     "ename": "LoadError",
     "evalue": "syntax: line break in \":\" expression",
     "output_type": "error",
     "traceback": [
      "syntax: line break in \":\" expression",
      "",
      "Stacktrace:",
      " [1] top-level scope",
      "   @ In[9]:21",
      " [2] eval",
      "   @ ./boot.jl:373 [inlined]",
      " [3] include_string(mapexpr::typeof(REPL.softscope), mod::Module, code::String, filename::String)",
      "   @ Base ./loading.jl:1196"
     ]
    }
   ],
   "source": [
    "function save_csv(data::DataFrame, filename)\n",
    "    path = dir * \"/data/\" * filename\n",
    "    CSV.write(path, data)\n",
    "end\n",
    "\n",
    "function get_json(id::String)\n",
    "    resp = HTTP.request(\"POST\", \"https://www.interest.co.nz/chart-data/get-csv-data\";\n",
    "        headers = Dict(\"Content-Type\" => \"application/x-www-form-urlencoded; charset=utf-8\"),\n",
    "        body = HTTP.URIs.escapeuri(Dict(\"nids[]\" => id)))\n",
    "\n",
    "    json_body = JSON.parse(transcode(String, resp.body))\n",
    "    return json_body\n",
    "end\n",
    "\n",
    "function json2dataframe(id::String, json, col_name)\n",
    "    lines = json[id][\"csv_data\"][1]\n",
    "\n",
    "    df = DataFrame(date = String[], data = Float64[])\n",
    "\n",
    "    for line in lines:\n",
    "        t = unix2datetime(line[1] / 1000)\n",
    "        ts = Dates.format(t, \"Y-m-d\")\n",
    "        d = line[2]\n",
    "        push!(df, [ts, d])\n",
    "    end\n",
    "end\n",
    "\n",
    "function get_save_csv(id::String, filename, colname)\n",
    "    json = get_json(id)\n",
    "    df = json2dataframe(id, json, colname)\n",
    "    save_csv(df, filename)\n",
    "end"
   ]
  },
  {
   "cell_type": "code",
   "execution_count": 11,
   "metadata": {},
   "outputs": [
    {
     "data": {
      "text/plain": [
       "Dict{String, Any} with 1 entry:\n",
       "  \"79430\" => Dict{String, Any}(\"chart_titles\"=>Any[\"Official cash rates\", \"Offi…"
      ]
     },
     "execution_count": 11,
     "metadata": {},
     "output_type": "execute_result"
    }
   ],
   "source": [
    "resp = HTTP.request(\"POST\", \"https://www.interest.co.nz/chart-data/get-csv-data\";\n",
    "    headers = Dict(\"Content-Type\" => \"application/x-www-form-urlencoded; charset=utf-8\"),\n",
    "    body = HTTP.URIs.escapeuri(Dict(\"nids[]\" => \"79430\")))\n",
    "\n",
    "json_body = JSON.parse(transcode(String, resp.body))"
   ]
  },
  {
   "cell_type": "code",
   "execution_count": 12,
   "metadata": {},
   "outputs": [
    {
     "data": {
      "text/plain": [
       "302-element Vector{Any}:\n",
       " Any[921582000000, 4.5, nothing, \"<div style=\\\"min-width: 100px; padding: 5px; font-weight:bold; line-height: 20px;\\\">17 Mar, 1999<br>4.5</div>\"]\n",
       " Any[924609600000, 4.5, nothing, \"<div style=\\\"min-width: 100px; padding: 5px; font-weight:bold; line-height: 20px;\\\">21 Apr, 1999<br>4.5</div>\"]\n",
       " Any[927028800000, 4.5, nothing, \"<div style=\\\"min-width: 100px; padding: 5px; font-weight:bold; line-height: 20px;\\\">19 May, 1999<br>4.5</div>\"]\n",
       " Any[930657600000, 4.5, nothing, \"<div style=\\\"min-width: 100px; padding: 5px; font-weight:bold; line-height: 20px;\\\">30 Jun, 1999<br>4.5</div>\"]\n",
       " Any[934891200000, 4.5, nothing, \"<div style=\\\"min-width: 100px; padding: 5px; font-weight:bold; line-height: 20px;\\\">18 Aug, 1999<br>4.5</div>\"]\n",
       " Any[938520000000, 4.5, nothing, \"<div style=\\\"min-width: 100px; padding: 5px; font-weight:bold; line-height: 20px;\\\">29 Sep, 1999<br>4.5</div>\"]\n",
       " Any[942663600000, 4.5, nothing, \"<div style=\\\"min-width: 100px; padding: 5px; font-weight:bold; line-height: 20px;\\\">16 Nov, 1999<br>4.5</div>\"]\n",
       " Any[942750000000, 5, nothing, \"<div style=\\\"min-width: 100px; padding: 5px; font-weight:bold; line-height: 20px;\\\">17 Nov, 1999<br>5</div>\"]\n",
       " Any[948106800000, 5, nothing, \"<div style=\\\"min-width: 100px; padding: 5px; font-weight:bold; line-height: 20px;\\\">18 Jan, 2000<br>5</div>\"]\n",
       " Any[948193200000, 5.25, nothing, \"<div style=\\\"min-width: 100px; padding: 5px; font-weight:bold; line-height: 20px;\\\">19 Jan, 2000<br>5.25</div>\"]\n",
       " Any[953031600000, 5.75, nothing, \"<div style=\\\"min-width: 100px; padding: 5px; font-weight:bold; line-height: 20px;\\\">15 Mar, 2000<br>5.75</div>\"]\n",
       " Any[950785200000, 5.75, nothing, \"<div style=\\\"min-width: 100px; padding: 5px; font-weight:bold; line-height: 20px;\\\">18 Feb, 2000<br>5.75</div>\"]\n",
       " Any[956059200000, 6, nothing, \"<div style=\\\"min-width: 100px; padding: 5px; font-weight:bold; line-height: 20px;\\\">19 Apr, 2000<br>6</div>\"]\n",
       " ⋮\n",
       " Any[1640862000000, 0.75, nothing, \"<div style=\\\"min-width: 100px; padding: 5px; font-weight:bold; line-height: 20px;\\\">31 Dec, 2021<br>0.75</div>\"]\n",
       " Any[1645441200000, 0.75, nothing, \"<div style=\\\"min-width: 100px; padding: 5px; font-weight:bold; line-height: 20px;\\\">22 Feb, 2022<br>0.75</div>\"]\n",
       " Any[1645527600000, 1, nothing, \"<div style=\\\"min-width: 100px; padding: 5px; font-weight:bold; line-height: 20px;\\\">23 Feb, 2022<br>1</div>\"]\n",
       " Any[1649678400000, 1, nothing, \"<div style=\\\"min-width: 100px; padding: 5px; font-weight:bold; line-height: 20px;\\\">12 Apr, 2022<br>1</div>\"]\n",
       " Any[1649764800000, 1.5, nothing, \"<div style=\\\"min-width: 100px; padding: 5px; font-weight:bold; line-height: 20px;\\\">13 Apr, 2022<br>1.5</div>\"]\n",
       " Any[1653393600000, 1.5, nothing, \"<div style=\\\"min-width: 100px; padding: 5px; font-weight:bold; line-height: 20px;\\\">25 May, 2022<br>1.5</div>\"]\n",
       " Any[1653480000000, 2, nothing, \"<div style=\\\"min-width: 100px; padding: 5px; font-weight:bold; line-height: 20px;\\\">26 May, 2022<br>2</div>\"]\n",
       " Any[1657540800000, 2, nothing, \"<div style=\\\"min-width: 100px; padding: 5px; font-weight:bold; line-height: 20px;\\\">12 Jul, 2022<br>2</div>\"]\n",
       " Any[1657627200000, 2.5, nothing, \"<div style=\\\"min-width: 100px; padding: 5px; font-weight:bold; line-height: 20px;\\\">13 Jul, 2022<br>2.5</div>\"]\n",
       " Any[1660564800000, 2.5, nothing, \"<div style=\\\"min-width: 100px; padding: 5px; font-weight:bold; line-height: 20px;\\\">16 Aug, 2022<br>2.5</div>\"]\n",
       " Any[1660651200000, 3, nothing, \"<div style=\\\"min-width: 100px; padding: 5px; font-weight:bold; line-height: 20px;\\\">17 Aug, 2022<br>3</div>\"]\n",
       " Any[1664881200000, 3.5, nothing, \"<div style=\\\"min-width: 100px; padding: 5px; font-weight:bold; line-height: 20px;\\\">5 Oct, 2022<br>3.5</div>\"]"
      ]
     },
     "execution_count": 12,
     "metadata": {},
     "output_type": "execute_result"
    }
   ],
   "source": [
    "ocr_array = json_body[\"79430\"][\"csv_data\"][1]"
   ]
  },
  {
   "cell_type": "code",
   "execution_count": null,
   "metadata": {},
   "outputs": [],
   "source": [
    "# dataframe"
   ]
  }
 ],
 "metadata": {
  "kernelspec": {
   "display_name": "Julia 1.7.3",
   "language": "julia",
   "name": "julia-1.7"
  },
  "language_info": {
   "file_extension": ".jl",
   "mimetype": "application/julia",
   "name": "julia",
   "version": "1.7.3"
  },
  "orig_nbformat": 4,
  "vscode": {
   "interpreter": {
    "hash": "aee8b7b246df8f9039afb4144a1f6fd8d2ca17a180786b69acc140d282b71a49"
   }
  }
 },
 "nbformat": 4,
 "nbformat_minor": 2
}
