{
 "cells": [
  {
   "cell_type": "code",
   "execution_count": null,
   "id": "488b07a8-407d-4d75-a29e-cca941b18ea7",
   "metadata": {},
   "outputs": [],
   "source": [
    "#Visulisation of Tourism \n",
    "# x axis time (yyyy-mm) : y axis (Tourism international visitors arrivals) + nzd-usd-exchange rate"
   ]
  },
  {
   "cell_type": "code",
   "execution_count": 10,
   "id": "c818ffa5-d200-481c-870d-a0642aeb5e74",
   "metadata": {},
   "outputs": [
    {
     "name": "stderr",
     "output_type": "stream",
     "text": [
      "Installing package into ‘/home/jeffreychi/R/x86_64-pc-linux-gnu-library/4.2’\n",
      "(as ‘lib’ is unspecified)\n",
      "\n"
     ]
    },
    {
     "ename": "ERROR",
     "evalue": "Error in library(timeDate): there is no package called ‘timeDate’\n",
     "output_type": "error",
     "traceback": [
      "Error in library(timeDate): there is no package called ‘timeDate’\nTraceback:\n",
      "1. library(timeDate)"
     ]
    }
   ],
   "source": [
    "install.packages(\"ggcorrplot\")\n",
    "library(tidyverse)\n",
    "library(ggplot2)\n",
    "library(gtable)\n",
    "library(grid)\n",
    "library(ggcorrplot)\n",
    "library(visdat)\n",
    "\n"
   ]
  },
  {
   "cell_type": "code",
   "execution_count": 22,
   "id": "4437cd16-c056-4290-b014-a99d8a588a9b",
   "metadata": {},
   "outputs": [
    {
     "name": "stderr",
     "output_type": "stream",
     "text": [
      "\u001b[1m\u001b[22mNew names:\n",
      "\u001b[36m•\u001b[39m `` -> `...1`\n"
     ]
    },
    {
     "data": {
      "text/html": [
       "<table class=\"dataframe\">\n",
       "<caption>A data.frame: 6 × 3</caption>\n",
       "<thead>\n",
       "\t<tr><th></th><th scope=col>Id</th><th scope=col>date.quarter</th><th scope=col>Actual_counts</th></tr>\n",
       "\t<tr><th></th><th scope=col>&lt;dbl&gt;</th><th scope=col>&lt;chr&gt;</th><th scope=col>&lt;dbl&gt;</th></tr>\n",
       "</thead>\n",
       "<tbody>\n",
       "\t<tr><th scope=row>1</th><td>1</td><td>1921-2</td><td>2934</td></tr>\n",
       "\t<tr><th scope=row>2</th><td>2</td><td>1921-3</td><td>1808</td></tr>\n",
       "\t<tr><th scope=row>3</th><td>3</td><td>1921-4</td><td>3783</td></tr>\n",
       "\t<tr><th scope=row>4</th><td>4</td><td>1922-1</td><td>3801</td></tr>\n",
       "\t<tr><th scope=row>5</th><td>5</td><td>1922-2</td><td>1964</td></tr>\n",
       "\t<tr><th scope=row>6</th><td>6</td><td>1922-3</td><td>1565</td></tr>\n",
       "</tbody>\n",
       "</table>\n"
      ],
      "text/latex": [
       "A data.frame: 6 × 3\n",
       "\\begin{tabular}{r|lll}\n",
       "  & Id & date.quarter & Actual\\_counts\\\\\n",
       "  & <dbl> & <chr> & <dbl>\\\\\n",
       "\\hline\n",
       "\t1 & 1 & 1921-2 & 2934\\\\\n",
       "\t2 & 2 & 1921-3 & 1808\\\\\n",
       "\t3 & 3 & 1921-4 & 3783\\\\\n",
       "\t4 & 4 & 1922-1 & 3801\\\\\n",
       "\t5 & 5 & 1922-2 & 1964\\\\\n",
       "\t6 & 6 & 1922-3 & 1565\\\\\n",
       "\\end{tabular}\n"
      ],
      "text/markdown": [
       "\n",
       "A data.frame: 6 × 3\n",
       "\n",
       "| <!--/--> | Id &lt;dbl&gt; | date.quarter &lt;chr&gt; | Actual_counts &lt;dbl&gt; |\n",
       "|---|---|---|---|\n",
       "| 1 | 1 | 1921-2 | 2934 |\n",
       "| 2 | 2 | 1921-3 | 1808 |\n",
       "| 3 | 3 | 1921-4 | 3783 |\n",
       "| 4 | 4 | 1922-1 | 3801 |\n",
       "| 5 | 5 | 1922-2 | 1964 |\n",
       "| 6 | 6 | 1922-3 | 1565 |\n",
       "\n"
      ],
      "text/plain": [
       "  Id date.quarter Actual_counts\n",
       "1 1  1921-2       2934         \n",
       "2 2  1921-3       1808         \n",
       "3 3  1921-4       3783         \n",
       "4 4  1922-1       3801         \n",
       "5 5  1922-2       1964         \n",
       "6 6  1922-3       1565         "
      ]
     },
     "metadata": {},
     "output_type": "display_data"
    }
   ],
   "source": [
    "#Fetch all merged data\n",
    "data_tourisms <- read_csv(\"data/tourism_final_clean_arriavals_1921Q1-2022Q2.csv\", show_col_types = FALSE)\n",
    "\n",
    "df_nz_tourism <- data.frame(data_tourisms)\n",
    "colnames(df_nz_tourism)<-c('Id','date.quarter','Actual_counts')\n",
    "#ata_tourisms %>% glimpse()\n",
    "head(df_nz_tourism)\n",
    "#vis_miss(data_tourisms)"
   ]
  },
  {
   "cell_type": "code",
   "execution_count": 24,
   "id": "61640484-4a39-4349-8b25-0270d01f13d4",
   "metadata": {},
   "outputs": [
    {
     "name": "stderr",
     "output_type": "stream",
     "text": [
      "Installing package into ‘/home/jeffreychi/R/x86_64-pc-linux-gnu-library/4.2’\n",
      "(as ‘lib’ is unspecified)\n",
      "\n",
      "Installing package into ‘/home/jeffreychi/R/x86_64-pc-linux-gnu-library/4.2’\n",
      "(as ‘lib’ is unspecified)\n",
      "\n"
     ]
    },
    {
     "data": {
      "text/html": [
       "<table class=\"dataframe\">\n",
       "<caption>A tibble: 10 × 2</caption>\n",
       "<thead>\n",
       "\t<tr><th scope=col>date.quarter</th><th scope=col>usd_rate_quarter</th></tr>\n",
       "\t<tr><th scope=col>&lt;chr&gt;</th><th scope=col>&lt;dbl&gt;</th></tr>\n",
       "</thead>\n",
       "<tbody>\n",
       "\t<tr><td>1999-03</td><td>0.5383333</td></tr>\n",
       "\t<tr><td>1999-06</td><td>0.5426667</td></tr>\n",
       "\t<tr><td>1999-09</td><td>0.5253333</td></tr>\n",
       "\t<tr><td>1999-12</td><td>0.5120000</td></tr>\n",
       "\t<tr><td>2000-03</td><td>0.4986667</td></tr>\n",
       "\t<tr><td>2000-06</td><td>0.4793333</td></tr>\n",
       "\t<tr><td>2000-09</td><td>0.4420000</td></tr>\n",
       "\t<tr><td>2000-12</td><td>0.4093333</td></tr>\n",
       "\t<tr><td>2001-03</td><td>0.4333333</td></tr>\n",
       "\t<tr><td>2001-06</td><td>0.4146667</td></tr>\n",
       "</tbody>\n",
       "</table>\n"
      ],
      "text/latex": [
       "A tibble: 10 × 2\n",
       "\\begin{tabular}{ll}\n",
       " date.quarter & usd\\_rate\\_quarter\\\\\n",
       " <chr> & <dbl>\\\\\n",
       "\\hline\n",
       "\t 1999-03 & 0.5383333\\\\\n",
       "\t 1999-06 & 0.5426667\\\\\n",
       "\t 1999-09 & 0.5253333\\\\\n",
       "\t 1999-12 & 0.5120000\\\\\n",
       "\t 2000-03 & 0.4986667\\\\\n",
       "\t 2000-06 & 0.4793333\\\\\n",
       "\t 2000-09 & 0.4420000\\\\\n",
       "\t 2000-12 & 0.4093333\\\\\n",
       "\t 2001-03 & 0.4333333\\\\\n",
       "\t 2001-06 & 0.4146667\\\\\n",
       "\\end{tabular}\n"
      ],
      "text/markdown": [
       "\n",
       "A tibble: 10 × 2\n",
       "\n",
       "| date.quarter &lt;chr&gt; | usd_rate_quarter &lt;dbl&gt; |\n",
       "|---|---|\n",
       "| 1999-03 | 0.5383333 |\n",
       "| 1999-06 | 0.5426667 |\n",
       "| 1999-09 | 0.5253333 |\n",
       "| 1999-12 | 0.5120000 |\n",
       "| 2000-03 | 0.4986667 |\n",
       "| 2000-06 | 0.4793333 |\n",
       "| 2000-09 | 0.4420000 |\n",
       "| 2000-12 | 0.4093333 |\n",
       "| 2001-03 | 0.4333333 |\n",
       "| 2001-06 | 0.4146667 |\n",
       "\n"
      ],
      "text/plain": [
       "   date.quarter usd_rate_quarter\n",
       "1  1999-03      0.5383333       \n",
       "2  1999-06      0.5426667       \n",
       "3  1999-09      0.5253333       \n",
       "4  1999-12      0.5120000       \n",
       "5  2000-03      0.4986667       \n",
       "6  2000-06      0.4793333       \n",
       "7  2000-09      0.4420000       \n",
       "8  2000-12      0.4093333       \n",
       "9  2001-03      0.4333333       \n",
       "10 2001-06      0.4146667       "
      ]
     },
     "metadata": {},
     "output_type": "display_data"
    }
   ],
   "source": [
    "#Fetch NZD VS. USD exchange rate history\n",
    "# Normalization for each time formats\n",
    "install.packages(\"timeDate\")\n",
    "install.packages(\"here\")\n",
    "library(timeDate)\n",
    "library(tidyverse)\n",
    "library(visdat)\n",
    "library(here)\n",
    "library(readxl)\n",
    "\n",
    "# convert \"1999Q1\" to \"1999-03\"\n",
    "Yq2Ym <- function(date) {\n",
    "           dt = str_split(date, \"Q\")\n",
    "           y = dt[[1]][[1]]\n",
    "           q = strtoi(dt[[1]][[2]], 10)\n",
    "           m = q * 3\n",
    "           mm = str_pad(m, 2, side = \"left\", pad = 0)\n",
    "           ym = paste(y, mm, sep = \"-\")\n",
    "           ym\n",
    "       }\n",
    "\n",
    "# convert \"1999-3-29\" to \"1999-03\"\n",
    "Yqd2Ym <- function(date) {\n",
    "           dt = str_split(date, \"-\")\n",
    "           y = dt[[1]][[1]]\n",
    "           m = strtoi(dt[[1]][[2]], 10)\n",
    "           mm = str_pad(m, 2, side = \"left\", pad = 0)\n",
    "           ym = paste(y, mm, sep = \"-\")\n",
    "           ym\n",
    "       }\n",
    "\n",
    "# Convert \"1999Q1\" to the last day of quarter\n",
    "Yq2Date <- function(date) {\n",
    "           ym = Yq2Ym(date)\n",
    "           ymd = paste(ym, \"01\", sep = \"-\")\n",
    "           dt = as.Date(timeLastDayInMonth(ymd))\n",
    "           dt\n",
    "       }\n",
    "\n",
    "\n",
    "# Convert \"1999-03-29\" to the last day of month\n",
    "Yqd2Date <- function(date) {\n",
    "          ym = Yqd2Ym(date)\n",
    "          ymd = paste(ym, \"01\", sep = \"-\")\n",
    "          dt = as.Date(timeLastDayInMonth(ymd))\n",
    "          dt\n",
    "       }\n",
    "\n",
    "# convert \"1999-03\" to \"1999Q1\"\n",
    "Ym2Yq <- function(date) {\n",
    "           dt = str_split(date, \"-\")\n",
    "           y = dt[[1]][[1]]\n",
    "           m = strtoi(dt[[1]][[2]], 10)\n",
    "           q = (m - 1) %/% 3 + 1\n",
    "           yq = paste(y, q, sep = \"Q\")\n",
    "           yq\n",
    "       }\n",
    "\n",
    "# exchange rate NZD-USD\n",
    "nzd_usd <- read_csv(\"data/nzd-usd_exchange_rate.csv\", col_select = c(\"date\", \"USD exchange rate\"), show_col_types = FALSE)\n",
    "nzd_usd$date.month = map_chr(nzd_usd$date, Yqd2Ym)\n",
    "nzd_usd$date.datetime = map(nzd_usd$date, Yqd2Date)\n",
    "\n",
    "m_nzd_usd <- nzd_usd %>%\n",
    "    filter(date.datetime > as.Date(\"1999-01-01\") & date.datetime < as.Date(\"2022-10-01\"))\n",
    "\n",
    "m_nzd_usd$date.quarter = map_chr(m_nzd_usd$date.month, Ym2Yq)\n",
    "# m_nzd_usd$usd_rate_m = m_nzd_usd$'USD exchange rate'\n",
    "names(m_nzd_usd)[names(m_nzd_usd) == \"USD exchange rate\"] <- \"usd_rate_m\"\n",
    "\n",
    "q_nzd_usd <- m_nzd_usd %>%\n",
    "    group_by(date.quarter) %>%\n",
    "    summarise(usd_rete_quarter = mean(usd_rate_m)) %>%\n",
    "    mutate(date.quarter = map_chr(.$date.quarter, Yq2Ym))\n",
    "colnames(q_nzd_usd)<-c('date.quarter','usd_rate_quarter')\n",
    "q_nzd_usd %>% head(10)"
   ]
  },
  {
   "cell_type": "code",
   "execution_count": 25,
   "id": "1352951e-709a-49aa-9127-2b13e7873710",
   "metadata": {},
   "outputs": [
    {
     "ename": "ERROR",
     "evalue": "Error in fix.by(by.x, x): 'by' must specify a uniquely valid column\n",
     "output_type": "error",
     "traceback": [
      "Error in fix.by(by.x, x): 'by' must specify a uniquely valid column\nTraceback:\n",
      "1. merge(df_nz_tourism, q_nzd_usd, by = \"data.quarter\")",
      "2. merge.data.frame(df_nz_tourism, q_nzd_usd, by = \"data.quarter\")",
      "3. fix.by(by.x, x)",
      "4. stop(ngettext(sum(bad), \"'by' must specify a uniquely valid column\", \n .     \"'by' must specify uniquely valid columns\"), domain = NA)"
     ]
    }
   ],
   "source": [
    "#Merge tourisms arrivals data and nzd_usd_exchange_rate\n",
    "\n",
    "merge(df_nz_tourism, q_nzd_usd, by=\"data.quarter\") "
   ]
  },
  {
   "cell_type": "code",
   "execution_count": null,
   "id": "cda9aa59-649d-4a9e-bce6-db43cb88405a",
   "metadata": {},
   "outputs": [],
   "source": [
    "#Plotting\n",
    "\n",
    "p1 <- ggplot(data, aes(x = date.quarter, y =  ump_rate, group = 1)) +\n",
    "    geom_line(aes(col = \"Unemployment\")) +\n",
    "    geom_bar(aes(y = ump_rate, fill = \"Unemployment\"), stat = \"identity\", alpha=.3) +\n",
    "    geom_line(aes(y = ocr_quarter, col = \"Official Cash Rate\")) +\n",
    "    scale_fill_manual(values = c(\"Unemployment\" = \"dodgerblue3\")) +\n",
    "    scale_x_discrete(name = \"Time(Quarterly)\", breaks = x_breaks) +\n",
    "    scale_y_continuous(name = \"Unemployment Rate\",\n",
    "        # Add a second axis and specify its features\n",
    "        sec.axis = sec_axis(~., name = \"Official Cash Rate\")) + \n",
    "    scale_color_manual(values = c(\"Unemployment\" = \"dodgerblue3\", \"Official Cash Rate\" = \"darkorange\")) +\n",
    "    theme(legend.position=\"bottom\", plot.margin=grid::unit(c(0,5,0,5), \"mm\")) +\n",
    "    theme(axis.text.x = element_text(angle = -45, hjust = 0.001)) + \n",
    "    coord_fixed(ratio = 6) +\n",
    "    labs(color = \" \", fill = \" \", \n",
    "       title = paste0(\"Unemployment Rate ~ Official Cash Rate\\nDate: \", Sys.Date()))\n",
    "p1"
   ]
  }
 ],
 "metadata": {
  "kernelspec": {
   "display_name": "R",
   "language": "R",
   "name": "ir"
  },
  "language_info": {
   "codemirror_mode": "r",
   "file_extension": ".r",
   "mimetype": "text/x-r-source",
   "name": "R",
   "pygments_lexer": "r",
   "version": "4.2.1"
  }
 },
 "nbformat": 4,
 "nbformat_minor": 5
}
