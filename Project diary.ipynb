{
 "cells": [
  {
   "cell_type": "markdown",
   "id": "de053837",
   "metadata": {},
   "source": [
    "# Project diary - Group Asclepius\n",
    "### (Ansar Ali, Jeffrey Chi & Jinze Zhou)"
   ]
  },
  {
   "cell_type": "markdown",
   "id": "9607bdd1",
   "metadata": {},
   "source": [
    "### 18-09-2022\n",
    "\n",
    "__Ansar__ initiated communication through email to collaborate on the project.\n",
    "He proposed two topics for the project:\n",
    "\n",
    " - Predicting forex exchange rates based on scrapped data from apparently not related source.\n",
    " - prediction of fuel prices based on what's happening around the world in terms of stability or unstability of different international factors.\n"
   ]
  },
  {
   "cell_type": "markdown",
   "id": "b57f331a",
   "metadata": {},
   "source": [
    "### 19-09-2022\n",
    "\n",
    "__Jeffrey__ replied to the email and showed concerns about the option given by __Ansar__ and suggested taht due to market fluctuation and plus covid-19 there would be fluctuation which would make it hard to on those options.\n",
    "\n",
    "__Jeffrey__ suggested doing something more in the scientific data, like:\n",
    "\n",
    " - Agricutluture, or\n",
    " - health care"
   ]
  },
  {
   "cell_type": "markdown",
   "id": "12566dc6",
   "metadata": {},
   "source": [
    "### 19-09-2022\n",
    "__Jinze__ joined the discussion later and replied to __Ansar__'s email saying that he liked the two options and suggested if we go for the first one, he suggested:\n",
    "\n",
    " - To focus on currency pairs between free market economies, e.g. USDJPD/ USDGBP, whose variables and complexity will be relatively more uncomplicated. There is an interesting model for currency rate, it's \"Mundell–Fleming_model: https://en.wikipedia.org/wiki/Mundell%E2%80%93Fleming_model"
   ]
  },
  {
   "cell_type": "markdown",
   "id": "aa372630",
   "metadata": {},
   "source": []
  },
  {
   "cell_type": "markdown",
   "id": "c97ed9fe",
   "metadata": {},
   "source": []
  },
  {
   "cell_type": "markdown",
   "id": "04cc66fc",
   "metadata": {},
   "source": []
  },
  {
   "cell_type": "markdown",
   "id": "20ddd9c2",
   "metadata": {},
   "source": []
  },
  {
   "cell_type": "markdown",
   "id": "ef162e18",
   "metadata": {},
   "source": []
  },
  {
   "cell_type": "markdown",
   "id": "25054148",
   "metadata": {},
   "source": []
  },
  {
   "cell_type": "markdown",
   "id": "8e2bc28e",
   "metadata": {},
   "source": []
  },
  {
   "cell_type": "markdown",
   "id": "0e321043",
   "metadata": {},
   "source": []
  },
  {
   "cell_type": "markdown",
   "id": "b551e847",
   "metadata": {},
   "source": []
  },
  {
   "cell_type": "markdown",
   "id": "57906de8",
   "metadata": {},
   "source": []
  },
  {
   "cell_type": "markdown",
   "id": "b60be5a9",
   "metadata": {},
   "source": []
  },
  {
   "cell_type": "markdown",
   "id": "41327fb3",
   "metadata": {},
   "source": []
  },
  {
   "cell_type": "markdown",
   "id": "f291afb0",
   "metadata": {},
   "source": []
  },
  {
   "cell_type": "markdown",
   "id": "bcd66dac",
   "metadata": {},
   "source": []
  },
  {
   "cell_type": "markdown",
   "id": "ae3bb264",
   "metadata": {},
   "source": []
  },
  {
   "cell_type": "markdown",
   "id": "5fe0bea7",
   "metadata": {},
   "source": []
  },
  {
   "cell_type": "markdown",
   "id": "10a268ac",
   "metadata": {},
   "source": []
  }
 ],
 "metadata": {
  "kernelspec": {
   "display_name": "R",
   "language": "R",
   "name": "ir"
  },
  "language_info": {
   "codemirror_mode": "r",
   "file_extension": ".r",
   "mimetype": "text/x-r-source",
   "name": "R",
   "pygments_lexer": "r",
   "version": "4.2.1"
  }
 },
 "nbformat": 4,
 "nbformat_minor": 5
}
