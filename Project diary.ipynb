{
 "cells": [
  {
   "cell_type": "markdown",
   "id": "de053837",
   "metadata": {},
   "source": [
    "# Project diary - Group Asclepius\n",
    "### (Ansar Ali, Jeffrey Chi & Jinze Zhou)"
   ]
  },
  {
   "cell_type": "markdown",
   "id": "3824e799",
   "metadata": {},
   "source": [
    "### 18-09-2022\n",
    "\n",
    "__Ansar__ initiated communication through email to collaborate on the project.\n",
    "He proposed two topics for the project:\n",
    "\n",
    " - Predicting forex exchange rates based on scrapped data from apparently not related source.\n",
    " - prediction of fuel prices based on what's happening around the world in terms of stability or unstability of different international factors.\n"
   ]
  },
  {
   "cell_type": "markdown",
   "id": "45ec7d21",
   "metadata": {},
   "source": [
    "### 19-09-2022\n",
    "\n",
    "__Jeffrey__ replied to the email and showed concerns about the option given by __Ansar__ and suggested taht due to market fluctuation and plus covid-19 there would be fluctuation which would make it hard to on those options.\n",
    "\n",
    "__Jeffrey__ suggested doing something more in the scientific data, like:\n",
    "\n",
    " - Agricutluture, or\n",
    " - health care"
   ]
  },
  {
   "cell_type": "markdown",
   "id": "90b0646c",
   "metadata": {},
   "source": [
    "### 19-09-2022\n",
    "__Jinze__ joined the discussion later and replied to __Ansar__'s email saying that he liked the two options and suggested if we go for the first one, he suggested:\n",
    "\n",
    " - To focus on currency pairs between free market economies, e.g. USDJPD/ USDGBP, whose variables and complexity will be relatively more uncomplicated. There is an interesting model for currency rate, it's \"Mundell–Fleming_model: https://en.wikipedia.org/wiki/Mundell%E2%80%93Fleming_model"
   ]
  },
  {
   "cell_type": "markdown",
   "id": "544153e9",
   "metadata": {},
   "source": [
    "### 19-09-2022\n",
    "__Ansar__ asked the group members if they are comfortable using git and github. If so he would create a repository for the ***Group Project***."
   ]
  },
  {
   "cell_type": "markdown",
   "id": "1207c11d",
   "metadata": {},
   "source": [
    "### 19-09-2022\n",
    "__Ansar__ received the confirmation from both members about the git/github"
   ]
  },
  {
   "cell_type": "markdown",
   "id": "fff82725",
   "metadata": {},
   "source": [
    "### 21-09-2022\n",
    "__Ansar__ setup a repository on github and invited the the memebers to join the the repository as contributors."
   ]
  },
  {
   "cell_type": "markdown",
   "id": "5252d76c",
   "metadata": {},
   "source": []
  },
  {
   "cell_type": "markdown",
   "id": "1aa856ba",
   "metadata": {},
   "source": []
  },
  {
   "cell_type": "markdown",
   "id": "344ec286",
   "metadata": {},
   "source": []
  },
  {
   "cell_type": "markdown",
   "id": "8ab3879d",
   "metadata": {},
   "source": []
  },
  {
   "cell_type": "markdown",
   "id": "ce311c44",
   "metadata": {},
   "source": []
  },
  {
   "cell_type": "markdown",
   "id": "4ee18406",
   "metadata": {},
   "source": []
  },
  {
   "cell_type": "markdown",
   "id": "f806870a",
   "metadata": {},
   "source": []
  },
  {
   "cell_type": "markdown",
   "id": "f740ff4f",
   "metadata": {},
   "source": []
  },
  {
   "cell_type": "markdown",
   "id": "41c6812f",
   "metadata": {},
   "source": []
  },
  {
   "cell_type": "markdown",
   "id": "d54d42ed",
   "metadata": {},
   "source": []
  },
  {
   "cell_type": "markdown",
   "id": "448e2e85",
   "metadata": {},
   "source": []
  },
  {
   "cell_type": "markdown",
   "id": "94c24dd7",
   "metadata": {},
   "source": []
  },
  {
   "cell_type": "markdown",
   "id": "a4e310d4",
   "metadata": {},
   "source": []
  },
  {
   "cell_type": "markdown",
   "id": "a8089eaf",
   "metadata": {},
   "source": []
  }
 ],
 "metadata": {
  "kernelspec": {
   "display_name": "R",
   "language": "R",
   "name": "ir"
  },
  "language_info": {
   "codemirror_mode": "r",
   "file_extension": ".r",
   "mimetype": "text/x-r-source",
   "name": "R",
   "pygments_lexer": "r",
   "version": "4.2.1"
  }
 },
 "nbformat": 4,
 "nbformat_minor": 5
}
