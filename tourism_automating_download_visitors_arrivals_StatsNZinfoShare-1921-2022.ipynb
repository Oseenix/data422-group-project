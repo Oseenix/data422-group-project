{
 "cells": [
  {
   "cell_type": "markdown",
   "id": "b57520ac",
   "metadata": {},
   "source": [
    "# Scraping the International visitor arrival data from Stats NZ website\n",
    "\n",
    "This page is dynamically generated, due to which __rvest::read_html__ does not load the page completely. To work around we use __RSelenium__ library. Now, in this case scraping process is divided into two steps:\n",
    " - Automate/simulate the opening the page in browser using tools provided by __RSelenium__\n",
    " - Scrape the required contents from the dynamically loaded page as usual using __rvest__ tools"
   ]
  },
  {
   "cell_type": "code",
   "execution_count": 1,
   "id": "c47920c9",
   "metadata": {},
   "outputs": [],
   "source": [
    "library(rvest)"
   ]
  },
  {
   "cell_type": "code",
   "execution_count": 2,
   "id": "ab7e015e",
   "metadata": {},
   "outputs": [],
   "source": [
    "library(RSelenium)"
   ]
  },
  {
   "cell_type": "markdown",
   "id": "b302503d",
   "metadata": {},
   "source": [
    "## Step 1: Browser automation\n",
    "Automation and loading the dynamic page"
   ]
  },
  {
   "cell_type": "markdown",
   "id": "0bbf01a0",
   "metadata": {},
   "source": [
    "#### Starting Selenium server and browser "
   ]
  },
  {
   "cell_type": "code",
   "execution_count": 5,
   "id": "95438ae9",
   "metadata": {},
   "outputs": [],
   "source": [
    "rD <- rsDriver(verbose = FALSE, port = 4444L,  browser = \"chrome\", chromever = \"106.0.5249.21\")"
   ]
  },
  {
   "cell_type": "markdown",
   "id": "e4992c66",
   "metadata": {},
   "source": [
    "#### Navigating to the Statistics New Zealand's tourism page"
   ]
  },
  {
   "cell_type": "code",
   "execution_count": 6,
   "id": "e154826d",
   "metadata": {},
   "outputs": [],
   "source": [
    "remDr <- rD$client\n",
    "remDr$navigate(\"https://infoshare.stats.govt.nz\")"
   ]
  },
  {
   "cell_type": "markdown",
   "id": "551fe157",
   "metadata": {},
   "source": [
    "#### Getting contents of \\<table>  "
   ]
  },
  {
   "cell_type": "code",
   "execution_count": 7,
   "id": "c22b0386",
   "metadata": {},
   "outputs": [],
   "source": [
    "# Click the Tourism node\n",
    "elem <- remDr$findElement(using=\"css selector\", value=\"a#ctl00_MainContent_tvBrowseNodest9\")\n",
    "elem$clickElement()"
   ]
  },
  {
   "cell_type": "code",
   "execution_count": 8,
   "id": "a90c2ec7",
   "metadata": {},
   "outputs": [],
   "source": [
    "# click the node 'International travel and migration'\n",
    "elem <- remDr$findElement(using=\"css selector\", value=\"a#ctl00_MainContent_tvBrowseNodest11\")\n",
    "elem$clickElement()"
   ]
  },
  {
   "cell_type": "code",
   "execution_count": 9,
   "id": "6992a76a",
   "metadata": {},
   "outputs": [],
   "source": [
    "# click the node 'visitor arrival totals (qrtly-mar/jun/sep/dec)'\n",
    "elem <- remDr$findElement(using=\"css selector\", value=\"a#ctl00_MainContent_tvBrowseNodest520\")\n",
    "elem$clickElement()"
   ]
  },
  {
   "cell_type": "code",
   "execution_count": 10,
   "id": "2cc8e7e2",
   "metadata": {},
   "outputs": [],
   "source": [
    "# click the node 'select all' in Count type section\n",
    "elem <- remDr$findElement(using=\"css selector\", value=\"span#ctl00_MainContent_ctl02_lblSelectAll\")\n",
    "elem$clickElement()"
   ]
  },
  {
   "cell_type": "code",
   "execution_count": 11,
   "id": "d6ae498b",
   "metadata": {},
   "outputs": [],
   "source": [
    "# click the node 'select all' in time section\n",
    "elem <- remDr$findElement(using=\"css selector\", value=\"span#ctl00_MainContent_ctl04_lblSelectAll\")\n",
    "elem$clickElement()"
   ]
  },
  {
   "cell_type": "code",
   "execution_count": 12,
   "id": "05d6afef",
   "metadata": {},
   "outputs": [],
   "source": [
    "# click the 'Go' button\n",
    "elem <- remDr$findElement(using=\"css selector\", value=\"input#ctl00_MainContent_btnGo\")\n",
    "elem$clickElement()"
   ]
  },
  {
   "cell_type": "code",
   "execution_count": 13,
   "id": "de4d52b6",
   "metadata": {},
   "outputs": [],
   "source": [
    "# saving the resultent table into a variable\n",
    "elem <- remDr$findElement(using=\"css selector\", value=\"table.pxtableParent\")\n",
    "web_page_src <- remDr$getPageSource()[[1]]"
   ]
  },
  {
   "cell_type": "code",
   "execution_count": 14,
   "id": "427ecb61",
   "metadata": {},
   "outputs": [
    {
     "data": {
      "text/html": [
       "TRUE"
      ],
      "text/latex": [
       "TRUE"
      ],
      "text/markdown": [
       "TRUE"
      ],
      "text/plain": [
       "[1] TRUE"
      ]
     },
     "metadata": {},
     "output_type": "display_data"
    }
   ],
   "source": [
    "# release the selenium browser driver\n",
    "rD[[\"server\"]]$stop()"
   ]
  },
  {
   "cell_type": "markdown",
   "id": "4f9f5909",
   "metadata": {},
   "source": [
    "## Step 2: Scraping the page"
   ]
  },
  {
   "cell_type": "code",
   "execution_count": 17,
   "id": "5ccc8496",
   "metadata": {},
   "outputs": [
    {
     "data": {
      "text/plain": [
       "{html_node}\n",
       "<table class=\"pxtable\" cellpadding=\"0\" cellspacing=\"0\" border=\"0\">\n",
       "[1] <tbody>\\n<tr>\\n<td class=\"headfirst\" colspan=\"1\" rowspan=\"1\"> </td>\\n     ..."
      ]
     },
     "metadata": {},
     "output_type": "display_data"
    }
   ],
   "source": [
    "web_page <- web_page_src %>% \n",
    "                read_html()\n",
    "\n",
    "statsnz_data_html <- web_page %>%\n",
    "                      html_nodes(\"table.pxtable\")\n",
    "statsnz_data_html[[2]]"
   ]
  },
  {
   "cell_type": "markdown",
   "id": "e697cfb9",
   "metadata": {},
   "source": [
    "#### Extracting table and saving it in tibble"
   ]
  },
  {
   "cell_type": "code",
   "execution_count": 19,
   "id": "188fbdad",
   "metadata": {},
   "outputs": [
    {
     "data": {
      "text/html": [
       "<table class=\"dataframe\">\n",
       "<caption>A tibble: 6 × 4</caption>\n",
       "<thead>\n",
       "\t<tr><th scope=col>X1</th><th scope=col>X2</th><th scope=col>X3</th><th scope=col>X4</th></tr>\n",
       "\t<tr><th scope=col>&lt;chr&gt;</th><th scope=col>&lt;chr&gt;</th><th scope=col>&lt;chr&gt;</th><th scope=col>&lt;chr&gt;</th></tr>\n",
       "</thead>\n",
       "<tbody>\n",
       "\t<tr><td>      </td><td>Actual Counts</td><td>Seasonally Adjusted</td><td>Counts Derived from a Sample</td></tr>\n",
       "\t<tr><td>1921Q2</td><td>2,934        </td><td>..                 </td><td>2,934                       </td></tr>\n",
       "\t<tr><td>1921Q3</td><td>1,808        </td><td>..                 </td><td>1,808                       </td></tr>\n",
       "\t<tr><td>1921Q4</td><td>3,783        </td><td>..                 </td><td>3,783                       </td></tr>\n",
       "\t<tr><td>1922Q1</td><td>3,801        </td><td>..                 </td><td>3,801                       </td></tr>\n",
       "\t<tr><td>1922Q2</td><td>1,964        </td><td>..                 </td><td>1,964                       </td></tr>\n",
       "</tbody>\n",
       "</table>\n"
      ],
      "text/latex": [
       "A tibble: 6 × 4\n",
       "\\begin{tabular}{llll}\n",
       " X1 & X2 & X3 & X4\\\\\n",
       " <chr> & <chr> & <chr> & <chr>\\\\\n",
       "\\hline\n",
       "\t        & Actual Counts & Seasonally Adjusted & Counts Derived from a Sample\\\\\n",
       "\t 1921Q2 & 2,934         & ..                  & 2,934                       \\\\\n",
       "\t 1921Q3 & 1,808         & ..                  & 1,808                       \\\\\n",
       "\t 1921Q4 & 3,783         & ..                  & 3,783                       \\\\\n",
       "\t 1922Q1 & 3,801         & ..                  & 3,801                       \\\\\n",
       "\t 1922Q2 & 1,964         & ..                  & 1,964                       \\\\\n",
       "\\end{tabular}\n"
      ],
      "text/markdown": [
       "\n",
       "A tibble: 6 × 4\n",
       "\n",
       "| X1 &lt;chr&gt; | X2 &lt;chr&gt; | X3 &lt;chr&gt; | X4 &lt;chr&gt; |\n",
       "|---|---|---|---|\n",
       "| <!----> | Actual Counts | Seasonally Adjusted | Counts Derived from a Sample |\n",
       "| 1921Q2 | 2,934         | ..                  | 2,934                        |\n",
       "| 1921Q3 | 1,808         | ..                  | 1,808                        |\n",
       "| 1921Q4 | 3,783         | ..                  | 3,783                        |\n",
       "| 1922Q1 | 3,801         | ..                  | 3,801                        |\n",
       "| 1922Q2 | 1,964         | ..                  | 1,964                        |\n",
       "\n"
      ],
      "text/plain": [
       "  X1     X2            X3                  X4                          \n",
       "1        Actual Counts Seasonally Adjusted Counts Derived from a Sample\n",
       "2 1921Q2 2,934         ..                  2,934                       \n",
       "3 1921Q3 1,808         ..                  1,808                       \n",
       "4 1921Q4 3,783         ..                  3,783                       \n",
       "5 1922Q1 3,801         ..                  3,801                       \n",
       "6 1922Q2 1,964         ..                  1,964                       "
      ]
     },
     "metadata": {},
     "output_type": "display_data"
    },
    {
     "data": {
      "text/html": [
       "<table class=\"dataframe\">\n",
       "<caption>A tibble: 6 × 4</caption>\n",
       "<thead>\n",
       "\t<tr><th scope=col>X1</th><th scope=col>X2</th><th scope=col>X3</th><th scope=col>X4</th></tr>\n",
       "\t<tr><th scope=col>&lt;chr&gt;</th><th scope=col>&lt;chr&gt;</th><th scope=col>&lt;chr&gt;</th><th scope=col>&lt;chr&gt;</th></tr>\n",
       "</thead>\n",
       "<tbody>\n",
       "\t<tr><td>2021Q1</td><td>15,384 </td><td>15,384 </td><td>15,384 </td></tr>\n",
       "\t<tr><td>2021Q2</td><td>141,126</td><td>141,126</td><td>141,126</td></tr>\n",
       "\t<tr><td>2021Q3</td><td>35,195 </td><td>35,195 </td><td>35,195 </td></tr>\n",
       "\t<tr><td>2021Q4</td><td>15,157 </td><td>15,157 </td><td>15,157 </td></tr>\n",
       "\t<tr><td>2022Q1</td><td>37,892 </td><td>37,892 </td><td>37,892 </td></tr>\n",
       "\t<tr><td>2022Q2</td><td>221,706</td><td>221,706</td><td>221,706</td></tr>\n",
       "</tbody>\n",
       "</table>\n"
      ],
      "text/latex": [
       "A tibble: 6 × 4\n",
       "\\begin{tabular}{llll}\n",
       " X1 & X2 & X3 & X4\\\\\n",
       " <chr> & <chr> & <chr> & <chr>\\\\\n",
       "\\hline\n",
       "\t 2021Q1 & 15,384  & 15,384  & 15,384 \\\\\n",
       "\t 2021Q2 & 141,126 & 141,126 & 141,126\\\\\n",
       "\t 2021Q3 & 35,195  & 35,195  & 35,195 \\\\\n",
       "\t 2021Q4 & 15,157  & 15,157  & 15,157 \\\\\n",
       "\t 2022Q1 & 37,892  & 37,892  & 37,892 \\\\\n",
       "\t 2022Q2 & 221,706 & 221,706 & 221,706\\\\\n",
       "\\end{tabular}\n"
      ],
      "text/markdown": [
       "\n",
       "A tibble: 6 × 4\n",
       "\n",
       "| X1 &lt;chr&gt; | X2 &lt;chr&gt; | X3 &lt;chr&gt; | X4 &lt;chr&gt; |\n",
       "|---|---|---|---|\n",
       "| 2021Q1 | 15,384  | 15,384  | 15,384  |\n",
       "| 2021Q2 | 141,126 | 141,126 | 141,126 |\n",
       "| 2021Q3 | 35,195  | 35,195  | 35,195  |\n",
       "| 2021Q4 | 15,157  | 15,157  | 15,157  |\n",
       "| 2022Q1 | 37,892  | 37,892  | 37,892  |\n",
       "| 2022Q2 | 221,706 | 221,706 | 221,706 |\n",
       "\n"
      ],
      "text/plain": [
       "  X1     X2      X3      X4     \n",
       "1 2021Q1 15,384  15,384  15,384 \n",
       "2 2021Q2 141,126 141,126 141,126\n",
       "3 2021Q3 35,195  35,195  35,195 \n",
       "4 2021Q4 15,157  15,157  15,157 \n",
       "5 2022Q1 37,892  37,892  37,892 \n",
       "6 2022Q2 221,706 221,706 221,706"
      ]
     },
     "metadata": {},
     "output_type": "display_data"
    }
   ],
   "source": [
    "table_node_table<-html_table(statsnz_data_html[[2]])\n",
    "head(table_node_table)\n",
    "tail(table_node_table)"
   ]
  },
  {
   "cell_type": "markdown",
   "id": "25001e80",
   "metadata": {},
   "source": [
    "#### Saving dataframe into csv file"
   ]
  },
  {
   "cell_type": "code",
   "execution_count": 20,
   "id": "6ccd4388",
   "metadata": {},
   "outputs": [],
   "source": [
    "table_node_table %>%\n",
    "    write.csv('data/tourism_international_visitors_arriavals_1921Q1-2022Q2.csv')"
   ]
  },
  {
   "cell_type": "markdown",
   "id": "5f515dab",
   "metadata": {},
   "source": [
    "#### Releasing the port used by rsDriver"
   ]
  },
  {
   "cell_type": "code",
   "execution_count": 8,
   "id": "1a928458",
   "metadata": {},
   "outputs": [
    {
     "data": {
      "text/html": [
       "TRUE"
      ],
      "text/latex": [
       "TRUE"
      ],
      "text/markdown": [
       "TRUE"
      ],
      "text/plain": [
       "[1] TRUE"
      ]
     },
     "metadata": {},
     "output_type": "display_data"
    }
   ],
   "source": []
  }
 ],
 "metadata": {
  "kernelspec": {
   "display_name": "R",
   "language": "R",
   "name": "ir"
  },
  "language_info": {
   "codemirror_mode": "r",
   "file_extension": ".r",
   "mimetype": "text/x-r-source",
   "name": "R",
   "pygments_lexer": "r",
   "version": "4.2.1"
  }
 },
 "nbformat": 4,
 "nbformat_minor": 5
}
