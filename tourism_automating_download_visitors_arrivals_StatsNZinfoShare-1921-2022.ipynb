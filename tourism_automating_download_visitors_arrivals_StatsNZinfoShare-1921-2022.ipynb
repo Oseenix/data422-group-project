{
 "cells": [
  {
   "cell_type": "markdown",
   "id": "b57520ac",
   "metadata": {},
   "source": [
    "# Scraping the International visitor arrival data from Stats NZ website\n",
    "\n",
    "This page is dynamically generated, due to which __rvest::read_html__ does not load the page completely. To work around we use __RSelenium__ library. Now, in this case scraping process is divided into two steps:\n",
    " - Automate/simulate the opening the page in browser using tools provided by __RSelenium__\n",
    " - Scrape the required contents from the dynamically loaded page as usual using __rvest__ tools"
   ]
  },
  {
   "cell_type": "code",
   "execution_count": 3,
   "id": "c47920c9",
   "metadata": {},
   "outputs": [
    {
     "name": "stderr",
     "output_type": "stream",
     "text": [
      "── \u001b[1mAttaching packages\u001b[22m ─────────────────────────────────────────────────────────────────────────────── tidyverse 1.3.2 ──\n",
      "\u001b[32m✔\u001b[39m \u001b[34mggplot2\u001b[39m 3.3.6     \u001b[32m✔\u001b[39m \u001b[34mpurrr  \u001b[39m 0.3.4\n",
      "\u001b[32m✔\u001b[39m \u001b[34mtibble \u001b[39m 3.1.8     \u001b[32m✔\u001b[39m \u001b[34mdplyr  \u001b[39m 1.0.9\n",
      "\u001b[32m✔\u001b[39m \u001b[34mtidyr  \u001b[39m 1.2.0     \u001b[32m✔\u001b[39m \u001b[34mstringr\u001b[39m 1.4.0\n",
      "\u001b[32m✔\u001b[39m \u001b[34mreadr  \u001b[39m 2.1.2     \u001b[32m✔\u001b[39m \u001b[34mforcats\u001b[39m 0.5.1\n",
      "── \u001b[1mConflicts\u001b[22m ────────────────────────────────────────────────────────────────────────────────── tidyverse_conflicts() ──\n",
      "\u001b[31m✖\u001b[39m \u001b[34mdplyr\u001b[39m::\u001b[32mfilter()\u001b[39m masks \u001b[34mstats\u001b[39m::filter()\n",
      "\u001b[31m✖\u001b[39m \u001b[34mdplyr\u001b[39m::\u001b[32mlag()\u001b[39m    masks \u001b[34mstats\u001b[39m::lag()\n",
      "\n",
      "Attaching package: 'rvest'\n",
      "\n",
      "\n",
      "The following object is masked from 'package:readr':\n",
      "\n",
      "    guess_encoding\n",
      "\n",
      "\n"
     ]
    }
   ],
   "source": [
    "library(tidyverse)\n",
    "library(dplyr)\n",
    "library(rvest)"
   ]
  },
  {
   "cell_type": "code",
   "execution_count": 4,
   "id": "ab7e015e",
   "metadata": {},
   "outputs": [],
   "source": [
    "library(RSelenium)"
   ]
  },
  {
   "cell_type": "code",
   "execution_count": 5,
   "id": "2999a532",
   "metadata": {
    "scrolled": true
   },
   "outputs": [
    {
     "name": "stderr",
     "output_type": "stream",
     "text": [
      "\n",
      "Attaching package: 'janitor'\n",
      "\n",
      "\n",
      "The following objects are masked from 'package:stats':\n",
      "\n",
      "    chisq.test, fisher.test\n",
      "\n",
      "\n"
     ]
    }
   ],
   "source": [
    "#install.packages(\"janitor\")\n",
    "library(janitor)"
   ]
  },
  {
   "cell_type": "markdown",
   "id": "b302503d",
   "metadata": {},
   "source": [
    "## Step 1: Browser automation\n",
    "Automation and loading the dynamic page"
   ]
  },
  {
   "cell_type": "markdown",
   "id": "0bbf01a0",
   "metadata": {},
   "source": [
    "#### Starting Selenium server and browser "
   ]
  },
  {
   "cell_type": "code",
   "execution_count": 7,
   "id": "95438ae9",
   "metadata": {},
   "outputs": [],
   "source": [
    "rD <- rsDriver(verbose = FALSE, port = 4444L,  browser = \"chrome\", chromever = \"106.0.5249.21\")"
   ]
  },
  {
   "cell_type": "markdown",
   "id": "e4992c66",
   "metadata": {},
   "source": [
    "#### Navigating to the Statistics New Zealand's tourism page"
   ]
  },
  {
   "cell_type": "code",
   "execution_count": 8,
   "id": "e154826d",
   "metadata": {},
   "outputs": [],
   "source": [
    "remDr <- rD$client\n",
    "remDr$navigate(\"https://infoshare.stats.govt.nz\")"
   ]
  },
  {
   "cell_type": "markdown",
   "id": "551fe157",
   "metadata": {},
   "source": [
    "#### Getting contents of the \\<table>\n",
    "Navigating to the target node in the tree by expanding it. Each node is dynamically generated, therefore, can not be directly accessed."
   ]
  },
  {
   "cell_type": "code",
   "execution_count": 9,
   "id": "c22b0386",
   "metadata": {},
   "outputs": [],
   "source": [
    "# Click the Tourism node\n",
    "elem <- remDr$findElement(using=\"css selector\", value=\"a#ctl00_MainContent_tvBrowseNodest9\")\n",
    "elem$clickElement()"
   ]
  },
  {
   "cell_type": "code",
   "execution_count": 11,
   "id": "a90c2ec7",
   "metadata": {},
   "outputs": [],
   "source": [
    "# click the node 'International travel and migration'\n",
    "elem <- remDr$findElement(using=\"css selector\", value=\"a#ctl00_MainContent_tvBrowseNodest11\")\n",
    "elem$clickElement()"
   ]
  },
  {
   "cell_type": "code",
   "execution_count": 12,
   "id": "6992a76a",
   "metadata": {},
   "outputs": [],
   "source": [
    "# click the node 'visitor arrival totals (qrtly-mar/jun/sep/dec)'\n",
    "elem <- remDr$findElement(using=\"css selector\", value=\"a#ctl00_MainContent_tvBrowseNodest520\")\n",
    "elem$clickElement()"
   ]
  },
  {
   "cell_type": "code",
   "execution_count": 13,
   "id": "2cc8e7e2",
   "metadata": {},
   "outputs": [],
   "source": [
    "# click the node 'select all' in Count type section\n",
    "elem <- remDr$findElement(using=\"css selector\", value=\"span#ctl00_MainContent_ctl02_lblSelectAll\")\n",
    "elem$clickElement()"
   ]
  },
  {
   "cell_type": "code",
   "execution_count": 14,
   "id": "d6ae498b",
   "metadata": {},
   "outputs": [],
   "source": [
    "# click the node 'select all' in time section\n",
    "elem <- remDr$findElement(using=\"css selector\", value=\"span#ctl00_MainContent_ctl04_lblSelectAll\")\n",
    "elem$clickElement()"
   ]
  },
  {
   "cell_type": "code",
   "execution_count": 15,
   "id": "05d6afef",
   "metadata": {},
   "outputs": [],
   "source": [
    "# click the 'Go' button\n",
    "elem <- remDr$findElement(using=\"css selector\", value=\"input#ctl00_MainContent_btnGo\")\n",
    "elem$clickElement()"
   ]
  },
  {
   "cell_type": "markdown",
   "id": "561151a3",
   "metadata": {},
   "source": [
    "### Saving the Table source into an element for later use."
   ]
  },
  {
   "cell_type": "code",
   "execution_count": 16,
   "id": "de4d52b6",
   "metadata": {},
   "outputs": [],
   "source": [
    "# saving the resultent table into a variable\n",
    "elem <- remDr$findElement(using=\"css selector\", value=\"table.pxtableParent\")\n",
    "web_page_src <- remDr$getPageSource()[[1]]"
   ]
  },
  {
   "cell_type": "markdown",
   "id": "0cd5a4fe",
   "metadata": {},
   "source": [
    "### Stoping the driver and closing the browser"
   ]
  },
  {
   "cell_type": "code",
   "execution_count": 17,
   "id": "427ecb61",
   "metadata": {},
   "outputs": [
    {
     "data": {
      "text/html": [
       "TRUE"
      ],
      "text/latex": [
       "TRUE"
      ],
      "text/markdown": [
       "TRUE"
      ],
      "text/plain": [
       "[1] TRUE"
      ]
     },
     "metadata": {},
     "output_type": "display_data"
    }
   ],
   "source": [
    "# release the selenium browser driver\n",
    "rD[[\"server\"]]$stop()"
   ]
  },
  {
   "cell_type": "markdown",
   "id": "4f9f5909",
   "metadata": {},
   "source": [
    "## Step 2: Scraping the page"
   ]
  },
  {
   "cell_type": "code",
   "execution_count": 18,
   "id": "5ccc8496",
   "metadata": {},
   "outputs": [
    {
     "data": {
      "text/plain": [
       "{html_node}\n",
       "<table class=\"pxtable\" cellpadding=\"0\" cellspacing=\"0\" border=\"0\">\n",
       "[1] <tbody>\\n<tr>\\n<td class=\"headfirst\" colspan=\"1\" rowspan=\"1\"> </td>\\n     ..."
      ]
     },
     "metadata": {},
     "output_type": "display_data"
    }
   ],
   "source": [
    "web_page <- web_page_src %>% \n",
    "                read_html()\n",
    "\n",
    "statsnz_data_html <- web_page %>%\n",
    "                      html_nodes(\"table.pxtable\")\n",
    "statsnz_data_html[[2]]"
   ]
  },
  {
   "cell_type": "markdown",
   "id": "e697cfb9",
   "metadata": {},
   "source": [
    "#### Extracting table and saving it in tibble"
   ]
  },
  {
   "cell_type": "code",
   "execution_count": 19,
   "id": "188fbdad",
   "metadata": {},
   "outputs": [],
   "source": [
    "table_node_table <- statsnz_data_html[[2]] %>%\n",
    "                        html_table() %>%\n",
    "                        row_to_names(1)     # function from library janitor to make the first row as header."
   ]
  },
  {
   "cell_type": "code",
   "execution_count": 20,
   "id": "6765f358",
   "metadata": {},
   "outputs": [
    {
     "data": {
      "text/html": [
       "<table class=\"dataframe\">\n",
       "<caption>A tibble: 6 × 4</caption>\n",
       "<thead>\n",
       "\t<tr><th scope=col></th><th scope=col>Actual Counts</th><th scope=col>Seasonally Adjusted</th><th scope=col>Counts Derived from a Sample</th></tr>\n",
       "\t<tr><th scope=col>&lt;chr&gt;</th><th scope=col>&lt;chr&gt;</th><th scope=col>&lt;chr&gt;</th><th scope=col>&lt;chr&gt;</th></tr>\n",
       "</thead>\n",
       "<tbody>\n",
       "\t<tr><td>1921Q2</td><td>2,934</td><td>..</td><td>2,934</td></tr>\n",
       "\t<tr><td>1921Q3</td><td>1,808</td><td>..</td><td>1,808</td></tr>\n",
       "\t<tr><td>1921Q4</td><td>3,783</td><td>..</td><td>3,783</td></tr>\n",
       "\t<tr><td>1922Q1</td><td>3,801</td><td>..</td><td>3,801</td></tr>\n",
       "\t<tr><td>1922Q2</td><td>1,964</td><td>..</td><td>1,964</td></tr>\n",
       "\t<tr><td>1922Q3</td><td>1,565</td><td>..</td><td>1,565</td></tr>\n",
       "</tbody>\n",
       "</table>\n"
      ],
      "text/latex": [
       "A tibble: 6 × 4\n",
       "\\begin{tabular}{llll}\n",
       "  & Actual Counts & Seasonally Adjusted & Counts Derived from a Sample\\\\\n",
       " <chr> & <chr> & <chr> & <chr>\\\\\n",
       "\\hline\n",
       "\t 1921Q2 & 2,934 & .. & 2,934\\\\\n",
       "\t 1921Q3 & 1,808 & .. & 1,808\\\\\n",
       "\t 1921Q4 & 3,783 & .. & 3,783\\\\\n",
       "\t 1922Q1 & 3,801 & .. & 3,801\\\\\n",
       "\t 1922Q2 & 1,964 & .. & 1,964\\\\\n",
       "\t 1922Q3 & 1,565 & .. & 1,565\\\\\n",
       "\\end{tabular}\n"
      ],
      "text/markdown": [
       "\n",
       "A tibble: 6 × 4\n",
       "\n",
       "| <!----> &lt;chr&gt; | Actual Counts &lt;chr&gt; | Seasonally Adjusted &lt;chr&gt; | Counts Derived from a Sample &lt;chr&gt; |\n",
       "|---|---|---|---|\n",
       "| 1921Q2 | 2,934 | .. | 2,934 |\n",
       "| 1921Q3 | 1,808 | .. | 1,808 |\n",
       "| 1921Q4 | 3,783 | .. | 3,783 |\n",
       "| 1922Q1 | 3,801 | .. | 3,801 |\n",
       "| 1922Q2 | 1,964 | .. | 1,964 |\n",
       "| 1922Q3 | 1,565 | .. | 1,565 |\n",
       "\n"
      ],
      "text/plain": [
       "         Actual Counts Seasonally Adjusted Counts Derived from a Sample\n",
       "1 1921Q2 2,934         ..                  2,934                       \n",
       "2 1921Q3 1,808         ..                  1,808                       \n",
       "3 1921Q4 3,783         ..                  3,783                       \n",
       "4 1922Q1 3,801         ..                  3,801                       \n",
       "5 1922Q2 1,964         ..                  1,964                       \n",
       "6 1922Q3 1,565         ..                  1,565                       "
      ]
     },
     "metadata": {},
     "output_type": "display_data"
    },
    {
     "data": {
      "text/html": [
       "<table class=\"dataframe\">\n",
       "<caption>A tibble: 6 × 4</caption>\n",
       "<thead>\n",
       "\t<tr><th scope=col></th><th scope=col>Actual Counts</th><th scope=col>Seasonally Adjusted</th><th scope=col>Counts Derived from a Sample</th></tr>\n",
       "\t<tr><th scope=col>&lt;chr&gt;</th><th scope=col>&lt;chr&gt;</th><th scope=col>&lt;chr&gt;</th><th scope=col>&lt;chr&gt;</th></tr>\n",
       "</thead>\n",
       "<tbody>\n",
       "\t<tr><td>2021Q1</td><td>15,384 </td><td>15,384 </td><td>15,384 </td></tr>\n",
       "\t<tr><td>2021Q2</td><td>141,126</td><td>141,126</td><td>141,126</td></tr>\n",
       "\t<tr><td>2021Q3</td><td>35,195 </td><td>35,195 </td><td>35,195 </td></tr>\n",
       "\t<tr><td>2021Q4</td><td>15,157 </td><td>15,157 </td><td>15,157 </td></tr>\n",
       "\t<tr><td>2022Q1</td><td>37,892 </td><td>37,892 </td><td>37,892 </td></tr>\n",
       "\t<tr><td>2022Q2</td><td>221,706</td><td>221,706</td><td>221,706</td></tr>\n",
       "</tbody>\n",
       "</table>\n"
      ],
      "text/latex": [
       "A tibble: 6 × 4\n",
       "\\begin{tabular}{llll}\n",
       "  & Actual Counts & Seasonally Adjusted & Counts Derived from a Sample\\\\\n",
       " <chr> & <chr> & <chr> & <chr>\\\\\n",
       "\\hline\n",
       "\t 2021Q1 & 15,384  & 15,384  & 15,384 \\\\\n",
       "\t 2021Q2 & 141,126 & 141,126 & 141,126\\\\\n",
       "\t 2021Q3 & 35,195  & 35,195  & 35,195 \\\\\n",
       "\t 2021Q4 & 15,157  & 15,157  & 15,157 \\\\\n",
       "\t 2022Q1 & 37,892  & 37,892  & 37,892 \\\\\n",
       "\t 2022Q2 & 221,706 & 221,706 & 221,706\\\\\n",
       "\\end{tabular}\n"
      ],
      "text/markdown": [
       "\n",
       "A tibble: 6 × 4\n",
       "\n",
       "| <!----> &lt;chr&gt; | Actual Counts &lt;chr&gt; | Seasonally Adjusted &lt;chr&gt; | Counts Derived from a Sample &lt;chr&gt; |\n",
       "|---|---|---|---|\n",
       "| 2021Q1 | 15,384  | 15,384  | 15,384  |\n",
       "| 2021Q2 | 141,126 | 141,126 | 141,126 |\n",
       "| 2021Q3 | 35,195  | 35,195  | 35,195  |\n",
       "| 2021Q4 | 15,157  | 15,157  | 15,157  |\n",
       "| 2022Q1 | 37,892  | 37,892  | 37,892  |\n",
       "| 2022Q2 | 221,706 | 221,706 | 221,706 |\n",
       "\n"
      ],
      "text/plain": [
       "         Actual Counts Seasonally Adjusted Counts Derived from a Sample\n",
       "1 2021Q1 15,384        15,384              15,384                      \n",
       "2 2021Q2 141,126       141,126             141,126                     \n",
       "3 2021Q3 35,195        35,195              35,195                      \n",
       "4 2021Q4 15,157        15,157              15,157                      \n",
       "5 2022Q1 37,892        37,892              37,892                      \n",
       "6 2022Q2 221,706       221,706             221,706                     "
      ]
     },
     "metadata": {},
     "output_type": "display_data"
    }
   ],
   "source": [
    "head(table_node_table)\n",
    "tail(table_node_table)"
   ]
  },
  {
   "cell_type": "markdown",
   "id": "25001e80",
   "metadata": {},
   "source": [
    "#### Saving dataframe into csv file"
   ]
  },
  {
   "cell_type": "code",
   "execution_count": 18,
   "id": "6ccd4388",
   "metadata": {},
   "outputs": [],
   "source": [
    "#table_node_table %>%\n",
    "#    write.csv('data/tourism_international_visitors_arriavals_1921Q1-2022Q2.csv')"
   ]
  },
  {
   "cell_type": "markdown",
   "id": "e2a320f4",
   "metadata": {},
   "source": [
    "## Step 3: Wrangling the data and tidying it up as per requirement"
   ]
  },
  {
   "cell_type": "code",
   "execution_count": 54,
   "id": "996f5219",
   "metadata": {},
   "outputs": [],
   "source": [
    "names(table_node_table)[1] <- 'date'\n",
    "names(table_node_table)[2] <- 'Actual_counts'"
   ]
  },
  {
   "cell_type": "markdown",
   "id": "9641b184",
   "metadata": {},
   "source": [
    "### Get rid of extra columns"
   ]
  },
  {
   "cell_type": "code",
   "execution_count": 56,
   "id": "2de04ce9",
   "metadata": {},
   "outputs": [],
   "source": [
    "int_visitors_arrivals_df <- table_node_table[ , c(\"date\", \"Actual_counts\")]   "
   ]
  },
  {
   "cell_type": "markdown",
   "id": "a731fd22",
   "metadata": {},
   "source": [
    "### Convert the counts column into numeric format "
   ]
  },
  {
   "cell_type": "code",
   "execution_count": 57,
   "id": "cce0d79c",
   "metadata": {},
   "outputs": [
    {
     "data": {
      "text/html": [
       "<table class=\"dataframe\">\n",
       "<caption>A tibble: 6 × 2</caption>\n",
       "<thead>\n",
       "\t<tr><th scope=col>date</th><th scope=col>Actual_counts</th></tr>\n",
       "\t<tr><th scope=col>&lt;chr&gt;</th><th scope=col>&lt;dbl&gt;</th></tr>\n",
       "</thead>\n",
       "<tbody>\n",
       "\t<tr><td>1921Q2</td><td>2934</td></tr>\n",
       "\t<tr><td>1921Q3</td><td>1808</td></tr>\n",
       "\t<tr><td>1921Q4</td><td>3783</td></tr>\n",
       "\t<tr><td>1922Q1</td><td>3801</td></tr>\n",
       "\t<tr><td>1922Q2</td><td>1964</td></tr>\n",
       "\t<tr><td>1922Q3</td><td>1565</td></tr>\n",
       "</tbody>\n",
       "</table>\n"
      ],
      "text/latex": [
       "A tibble: 6 × 2\n",
       "\\begin{tabular}{ll}\n",
       " date & Actual\\_counts\\\\\n",
       " <chr> & <dbl>\\\\\n",
       "\\hline\n",
       "\t 1921Q2 & 2934\\\\\n",
       "\t 1921Q3 & 1808\\\\\n",
       "\t 1921Q4 & 3783\\\\\n",
       "\t 1922Q1 & 3801\\\\\n",
       "\t 1922Q2 & 1964\\\\\n",
       "\t 1922Q3 & 1565\\\\\n",
       "\\end{tabular}\n"
      ],
      "text/markdown": [
       "\n",
       "A tibble: 6 × 2\n",
       "\n",
       "| date &lt;chr&gt; | Actual_counts &lt;dbl&gt; |\n",
       "|---|---|\n",
       "| 1921Q2 | 2934 |\n",
       "| 1921Q3 | 1808 |\n",
       "| 1921Q4 | 3783 |\n",
       "| 1922Q1 | 3801 |\n",
       "| 1922Q2 | 1964 |\n",
       "| 1922Q3 | 1565 |\n",
       "\n"
      ],
      "text/plain": [
       "  date   Actual_counts\n",
       "1 1921Q2 2934         \n",
       "2 1921Q3 1808         \n",
       "3 1921Q4 3783         \n",
       "4 1922Q1 3801         \n",
       "5 1922Q2 1964         \n",
       "6 1922Q3 1565         "
      ]
     },
     "metadata": {},
     "output_type": "display_data"
    }
   ],
   "source": [
    "# Converting type of 'Actual Counts' column to numeric\n",
    "int_visitors_arrivals_df$Actual_counts <- int_visitors_arrivals_df$Actual_counts %>%\n",
    "    gsub(\",\", \"\", .) %>%\n",
    "    as.numeric()\n",
    "\n",
    "int_visitors_arrivals_df %>% head()"
   ]
  },
  {
   "cell_type": "markdown",
   "id": "8d14983e",
   "metadata": {},
   "source": [
    "### Changing the format of the data in Time column from 2022Q2 to 2022-2"
   ]
  },
  {
   "cell_type": "code",
   "execution_count": 59,
   "id": "4077b227",
   "metadata": {},
   "outputs": [],
   "source": [
    "df <- int_visitors_arrivals_df %>% \n",
    "    separate(date, c(\"Year\", \"Quarter\"),sep = \"Q\")"
   ]
  },
  {
   "cell_type": "code",
   "execution_count": 60,
   "id": "c7cd55fe",
   "metadata": {},
   "outputs": [
    {
     "data": {
      "text/html": [
       "<table class=\"dataframe\">\n",
       "<caption>A tibble: 6 × 3</caption>\n",
       "<thead>\n",
       "\t<tr><th scope=col>Year</th><th scope=col>Quarter</th><th scope=col>Actual_counts</th></tr>\n",
       "\t<tr><th scope=col>&lt;chr&gt;</th><th scope=col>&lt;chr&gt;</th><th scope=col>&lt;dbl&gt;</th></tr>\n",
       "</thead>\n",
       "<tbody>\n",
       "\t<tr><td>1921</td><td>06</td><td>2934</td></tr>\n",
       "\t<tr><td>1921</td><td>09</td><td>1808</td></tr>\n",
       "\t<tr><td>1921</td><td>12</td><td>3783</td></tr>\n",
       "\t<tr><td>1922</td><td>03</td><td>3801</td></tr>\n",
       "\t<tr><td>1922</td><td>06</td><td>1964</td></tr>\n",
       "\t<tr><td>1922</td><td>09</td><td>1565</td></tr>\n",
       "</tbody>\n",
       "</table>\n"
      ],
      "text/latex": [
       "A tibble: 6 × 3\n",
       "\\begin{tabular}{lll}\n",
       " Year & Quarter & Actual\\_counts\\\\\n",
       " <chr> & <chr> & <dbl>\\\\\n",
       "\\hline\n",
       "\t 1921 & 06 & 2934\\\\\n",
       "\t 1921 & 09 & 1808\\\\\n",
       "\t 1921 & 12 & 3783\\\\\n",
       "\t 1922 & 03 & 3801\\\\\n",
       "\t 1922 & 06 & 1964\\\\\n",
       "\t 1922 & 09 & 1565\\\\\n",
       "\\end{tabular}\n"
      ],
      "text/markdown": [
       "\n",
       "A tibble: 6 × 3\n",
       "\n",
       "| Year &lt;chr&gt; | Quarter &lt;chr&gt; | Actual_counts &lt;dbl&gt; |\n",
       "|---|---|---|\n",
       "| 1921 | 06 | 2934 |\n",
       "| 1921 | 09 | 1808 |\n",
       "| 1921 | 12 | 3783 |\n",
       "| 1922 | 03 | 3801 |\n",
       "| 1922 | 06 | 1964 |\n",
       "| 1922 | 09 | 1565 |\n",
       "\n"
      ],
      "text/plain": [
       "  Year Quarter Actual_counts\n",
       "1 1921 06      2934         \n",
       "2 1921 09      1808         \n",
       "3 1921 12      3783         \n",
       "4 1922 03      3801         \n",
       "5 1922 06      1964         \n",
       "6 1922 09      1565         "
      ]
     },
     "metadata": {},
     "output_type": "display_data"
    }
   ],
   "source": [
    "df$Quarter <- as.numeric(df$Quarter) * 3\n",
    "\n",
    "df$Quarter <- ifelse(df$Quarter < 10, paste0(\"0\", df$Quarter), df$Quarter)\n",
    "#sprintf(\"%02d\", df$Quarter)\n",
    "\n",
    "head(df)"
   ]
  },
  {
   "cell_type": "code",
   "execution_count": 61,
   "id": "08632ffd",
   "metadata": {},
   "outputs": [],
   "source": [
    "int_visitors_arrivals_df$date <- paste0(df$Year, \"-\", df$Quarter)"
   ]
  },
  {
   "cell_type": "code",
   "execution_count": 62,
   "id": "272afb98",
   "metadata": {},
   "outputs": [
    {
     "data": {
      "text/html": [
       "<table class=\"dataframe\">\n",
       "<caption>A tibble: 6 × 2</caption>\n",
       "<thead>\n",
       "\t<tr><th scope=col>date</th><th scope=col>Actual_counts</th></tr>\n",
       "\t<tr><th scope=col>&lt;chr&gt;</th><th scope=col>&lt;dbl&gt;</th></tr>\n",
       "</thead>\n",
       "<tbody>\n",
       "\t<tr><td>1921-06</td><td>2934</td></tr>\n",
       "\t<tr><td>1921-09</td><td>1808</td></tr>\n",
       "\t<tr><td>1921-12</td><td>3783</td></tr>\n",
       "\t<tr><td>1922-03</td><td>3801</td></tr>\n",
       "\t<tr><td>1922-06</td><td>1964</td></tr>\n",
       "\t<tr><td>1922-09</td><td>1565</td></tr>\n",
       "</tbody>\n",
       "</table>\n"
      ],
      "text/latex": [
       "A tibble: 6 × 2\n",
       "\\begin{tabular}{ll}\n",
       " date & Actual\\_counts\\\\\n",
       " <chr> & <dbl>\\\\\n",
       "\\hline\n",
       "\t 1921-06 & 2934\\\\\n",
       "\t 1921-09 & 1808\\\\\n",
       "\t 1921-12 & 3783\\\\\n",
       "\t 1922-03 & 3801\\\\\n",
       "\t 1922-06 & 1964\\\\\n",
       "\t 1922-09 & 1565\\\\\n",
       "\\end{tabular}\n"
      ],
      "text/markdown": [
       "\n",
       "A tibble: 6 × 2\n",
       "\n",
       "| date &lt;chr&gt; | Actual_counts &lt;dbl&gt; |\n",
       "|---|---|\n",
       "| 1921-06 | 2934 |\n",
       "| 1921-09 | 1808 |\n",
       "| 1921-12 | 3783 |\n",
       "| 1922-03 | 3801 |\n",
       "| 1922-06 | 1964 |\n",
       "| 1922-09 | 1565 |\n",
       "\n"
      ],
      "text/plain": [
       "  date    Actual_counts\n",
       "1 1921-06 2934         \n",
       "2 1921-09 1808         \n",
       "3 1921-12 3783         \n",
       "4 1922-03 3801         \n",
       "5 1922-06 1964         \n",
       "6 1922-09 1565         "
      ]
     },
     "metadata": {},
     "output_type": "display_data"
    }
   ],
   "source": [
    "int_visitors_arrivals_df %>%\n",
    "    head()"
   ]
  },
  {
   "cell_type": "markdown",
   "id": "556f5e02",
   "metadata": {},
   "source": [
    "### saving the dataframe into csv file"
   ]
  },
  {
   "cell_type": "code",
   "execution_count": 63,
   "id": "2934800d",
   "metadata": {},
   "outputs": [],
   "source": [
    "int_visitors_arrivals_df %>%\n",
    "    write.csv('data/tourism_final_clean_arriavals_1921Q1-2022Q2.csv')"
   ]
  },
  {
   "cell_type": "code",
   "execution_count": null,
   "id": "2b351c7f",
   "metadata": {},
   "outputs": [],
   "source": []
  },
  {
   "cell_type": "markdown",
   "id": "510eda97",
   "metadata": {},
   "source": [
    "#### End of file"
   ]
  }
 ],
 "metadata": {
  "kernelspec": {
   "display_name": "R",
   "language": "R",
   "name": "ir"
  },
  "language_info": {
   "codemirror_mode": "r",
   "file_extension": ".r",
   "mimetype": "text/x-r-source",
   "name": "R",
   "pygments_lexer": "r",
   "version": "4.2.1"
  }
 },
 "nbformat": 4,
 "nbformat_minor": 5
}
