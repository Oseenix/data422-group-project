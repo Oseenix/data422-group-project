{
 "cells": [
  {
   "cell_type": "markdown",
   "id": "97427b06-c579-4210-9d86-efdf42c288cf",
   "metadata": {},
   "source": [
    "Kiwi Budget : A Database of New Zealand Economic Activities (1996 ~ 2022)\n",
    "Authors : Ali, Jerry, Jeffrey\n",
    "\n",
    "Abstract\n",
    "\n",
    "This database contains information from various major social economical activities of New Zealand as well as its key monetary policy indicators. All data are time series based, they have been collected from websites like “interest.co.nz”, “interest.co.nz”, “interest.co.nz” and so on. The reuse potential includes finance department of New Zelanad companies for training machine learning algorithms that does the forecasting as well as visulisation.  This database is available through xxx??\n",
    "\n",
    "KeyWords : Monetary policy, Economic activities, "
   ]
  },
  {
   "cell_type": "markdown",
   "id": "eac62176-9382-490b-82ce-6930a41521db",
   "metadata": {},
   "source": [
    "(2)Methods\n",
    "Step2 \n",
    "1: Sourcing, Tidying and Enhancing New Zealand Economy Dataset"
   ]
  },
  {
   "cell_type": "markdown",
   "id": "36a65d3a-b4bb-4629-96c1-fe62a1365ea4",
   "metadata": {},
   "source": [
    "We have installed following packages (\"RSelenium\", \"Writexl\" and \"here\" packages) utilized\n",
    "following libraries \n",
    "\n",
    "1) magrittr\n",
    "The magrittr (to be pronounced with a sophisticated french accent) package has two aims: decrease development time and improve readability and maintainability of code. Or even shortr: make your code smokin’ (puff puff)!\n",
    "2) polite\n",
    "Be responsible when scraping data from websites by following polite principles: introduce yourself, ask for permission, take slowly and never ask twice. \n",
    "3) rvest\n",
    "Wrappers around the 'xml2' and 'httr' packages to make it easy to download, then manipulate, HTML and XML\n",
    "4) here\n",
    "The goal of the here package is to enable easy file referencing in project-oriented workflows. In contrast to using setwd(), which is fragile and dependent on the way you organize your files, here uses the top-level directory of a project to easily build paths to files.\n",
    "5) RSelenium\n",
    "Provides a set of R bindings for the 'Selenium 2.0 WebDriver' (see <https://www.selenium.dev/documentation/> for more information) using the 'JsonWireProtocol' (see <https://github.com/SeleniumHQ/selenium/wiki/JsonWireProtocol> for more information). 'Selenium 2.0 WebDriver' allows driving a web browser natively as a user would either locally or on a remote machine using the Selenium server it marks a leap forward in terms of web browser automation. Selenium automates web browsers (commonly referred to as browsers). Using RSelenium you can automate browsers locally or remotely. "
   ]
  },
  {
   "cell_type": "code",
   "execution_count": 2,
   "id": "1afd7c13-d689-4d40-8054-5a3a2d8e9f5e",
   "metadata": {},
   "outputs": [
    {
     "name": "stderr",
     "output_type": "stream",
     "text": [
      "Installing packages into ‘/home/jeffreychi/R/x86_64-pc-linux-gnu-library/4.2’\n",
      "(as ‘lib’ is unspecified)\n",
      "\n"
     ]
    }
   ],
   "source": [
    "install.packages(c(\"RSelenium\", \"writexl\", \"here\"))"
   ]
  },
  {
   "cell_type": "code",
   "execution_count": 3,
   "id": "509d4ace-cd23-4dd7-800e-0dfb2e2b8f38",
   "metadata": {},
   "outputs": [
    {
     "name": "stderr",
     "output_type": "stream",
     "text": [
      "here() starts at /home/jeffreychi/Downloads/Group Project\n",
      "\n"
     ]
    }
   ],
   "source": [
    "# CPI data\n",
    "library(magrittr)\n",
    "library(polite)\n",
    "library(rvest)\n",
    "library(here)\n",
    "library(RSelenium)"
   ]
  },
  {
   "cell_type": "markdown",
   "id": "8f9f9ae1-d358-4a6a-8f6b-d806a37dfb00",
   "metadata": {},
   "source": [
    "Setting up Browser environment that scrapping infoshare.stats.govt.nz website\n",
    "#todo, Error in curl::curl_fetch_disk"
   ]
  },
  {
   "cell_type": "code",
   "execution_count": 4,
   "id": "eb381596-5e7c-417c-b2ac-7788b13376e8",
   "metadata": {},
   "outputs": [
    {
     "ename": "ERROR",
     "evalue": "Error in curl::curl_fetch_disk(url, x$path, handle = handle): Unrecognized content encoding type. libcurl understands deflate, gzip content encodings.\n",
     "output_type": "error",
     "traceback": [
      "Error in curl::curl_fetch_disk(url, x$path, handle = handle): Unrecognized content encoding type. libcurl understands deflate, gzip content encodings.\nTraceback:\n",
      "1. rsDriver(verbose = FALSE, browser = \"chrome\", chromever = \"106.0.5249.61\", \n .     extraCapabilities = eCaps)",
      "2. wdman::selenium(port = port, verbose = verbose, version = version, \n .     chromever = chromever, geckover = geckover, iedrver = iedrver, \n .     phantomver = phantomver, check = check)",
      "3. selenium_check(verbose, check = check)",
      "4. process_yaml(syml, verbose)",
      "5. fn({\n .     message(\"BEGIN: PREDOWNLOAD\")\n .     dllist <- do.call(ymlfuncs[[c(\"predlfunction\", \"function\")]], \n .         ymlfuncs[[c(\"predlfunction\", \"args\")]])\n .     message(\"BEGIN: DOWNLOAD\")\n .     dlfiles <- do.call(ymlfuncs[[c(\"dlfunction\", \"function\")]], \n .         c(list(dllist = dllist), ymlfuncs[[c(\"dlfunction\", \"args\")]]))\n .     message(\"BEGIN: POSTDOWNLOAD\")\n .     postproc <- do.call(ymlfuncs[[c(\"postdlfunction\", \"function\")]], \n .         c(list(dlfiles = dlfiles), ymlfuncs[[c(\"postdlfunction\", \n .             \"args\")]]))\n . })",
      "6. withCallingHandlers(expr, message = function(c) if (inherits(c, \n .     classes)) tryInvokeRestart(\"muffleMessage\"))",
      "7. do.call(ymlfuncs[[c(\"dlfunction\", \"function\")]], c(list(dllist = dllist), \n .     ymlfuncs[[c(\"dlfunction\", \"args\")]]))",
      "8. (function (dllist, overwrite = FALSE) \n . {\n .     assert_that(is_list_of_df(dllist))\n .     assert_that(is_logical(overwrite))\n .     dl_files <- function(dir, file, url) {\n .         if (!dir.exists(dir)) {\n .             pretty_message(paste0(\"Creating directory: \", dir))\n .             chk <- dir.create(dir, recursive = TRUE)\n .             stopifnot(chk)\n .         }\n .         pretty_message(paste0(\"Downloading binary: \", url), \"\\n\")\n .         wd <- httr::write_disk(file.path(dir, file), overwrite = TRUE)\n .         res <- httr::GET(url, wd)\n .         httr::stop_for_status(res)\n .         res\n .     }\n .     dlfiles <- lapply(names(dllist), function(platform) {\n .         platformDF <- dllist[[platform]]\n .         if (!overwrite) {\n .             platformDF <- platformDF[!platformDF[[\"exists\"]], \n .                 ]\n .         }\n .         if (identical(nrow(platformDF), 0L)) {\n .             return(data.frame(platform = character(), file = character(), \n .                 processed = logical(), stringsAsFactors = FALSE))\n .         }\n .         res <- Map(dl_files, dir = platformDF[[\"dir\"]], file = platformDF[[\"file\"]], \n .             url = platformDF[[\"url\"]], USE.NAMES = FALSE)\n .         res <- vapply(res, class, character(1)) == \"response\"\n .         data.frame(platform = platform, file = file.path(platformDF[[\"dir\"]], \n .             platformDF[[\"file\"]]), processed = res, stringsAsFactors = FALSE)\n .     })\n .     invisible(do.call(rbind.data.frame, dlfiles))\n . })(dllist = list(generic = structure(list(version = c(\"3.141.59\", \n . \"4.0.0-alpha-1\", \"4.0.0-alpha-2\"), url = c(\"https://www.googleapis.com/download/storage/v1/b/selenium-release/o/3.141%2Fselenium-server-standalone-3.141.59.jar?generation=1542184006302312&alt=media\", \n . \"https://www.googleapis.com/download/storage/v1/b/selenium-release/o/4.0%2Fselenium-server-standalone-4.0.0-alpha-1.jar?generation=1556122620115927&alt=media\", \n . \"https://www.googleapis.com/download/storage/v1/b/selenium-release/o/4.0%2Fselenium-server-standalone-4.0.0-alpha-2.jar?generation=1562016739229945&alt=media\"\n . ), file = c(\"selenium-server-standalone-3.141.59.jar\", \"selenium-server-standalone-4.0.0-alpha-1.jar\", \n . \"selenium-server-standalone-4.0.0-alpha-2.jar\"), dir = structure(list(\n .     \"~/.local/share/binman_seleniumserver/generic/3.141.59\", \n .     \"~/.local/share/binman_seleniumserver/generic/4.0.0-alpha-1\", \n .     \"~/.local/share/binman_seleniumserver/generic/4.0.0-alpha-2\"), names = c(\"generic\", \n . NA, NA)), exists = c(FALSE, FALSE, FALSE)), row.names = c(268L, \n . 436L, 438L), class = \"data.frame\")))",
      "9. lapply(names(dllist), function(platform) {\n .     platformDF <- dllist[[platform]]\n .     if (!overwrite) {\n .         platformDF <- platformDF[!platformDF[[\"exists\"]], ]\n .     }\n .     if (identical(nrow(platformDF), 0L)) {\n .         return(data.frame(platform = character(), file = character(), \n .             processed = logical(), stringsAsFactors = FALSE))\n .     }\n .     res <- Map(dl_files, dir = platformDF[[\"dir\"]], file = platformDF[[\"file\"]], \n .         url = platformDF[[\"url\"]], USE.NAMES = FALSE)\n .     res <- vapply(res, class, character(1)) == \"response\"\n .     data.frame(platform = platform, file = file.path(platformDF[[\"dir\"]], \n .         platformDF[[\"file\"]]), processed = res, stringsAsFactors = FALSE)\n . })",
      "10. FUN(X[[i]], ...)",
      "11. Map(dl_files, dir = platformDF[[\"dir\"]], file = platformDF[[\"file\"]], \n  .     url = platformDF[[\"url\"]], USE.NAMES = FALSE)",
      "12. mapply(FUN = f, ..., SIMPLIFY = FALSE)",
      "13. (function (dir, file, url) \n  . {\n  .     if (!dir.exists(dir)) {\n  .         pretty_message(paste0(\"Creating directory: \", dir))\n  .         chk <- dir.create(dir, recursive = TRUE)\n  .         stopifnot(chk)\n  .     }\n  .     pretty_message(paste0(\"Downloading binary: \", url), \"\\n\")\n  .     wd <- httr::write_disk(file.path(dir, file), overwrite = TRUE)\n  .     res <- httr::GET(url, wd)\n  .     httr::stop_for_status(res)\n  .     res\n  . })(dir = dots[[1L]][[1L]], file = dots[[2L]][[1L]], url = dots[[3L]][[1L]])",
      "14. httr::GET(url, wd)",
      "15. request_perform(req, hu$handle$handle)",
      "16. request_fetch(req$output, req$url, handle)",
      "17. request_fetch.write_disk(req$output, req$url, handle)",
      "18. curl::curl_fetch_disk(url, x$path, handle = handle)"
     ]
    }
   ],
   "source": [
    "data_dir = paste(here(), \"data\", sep = \"/\")\n",
    "\n",
    "eCaps <- list(\n",
    "  chromeOptions = \n",
    "    list(prefs = list(\n",
    "        \"profile.default_content_settings.popups\" = 0L,\n",
    "        \"download.prompt_for_download\" = FALSE,\n",
    "        \"directory_upgrade\" = TRUE,\n",
    "        \"download.default_directory\" = data_dir),\n",
    "      args = list(\n",
    "        \"--disable-blink-features=AutomationControlled\"\n",
    "      )),\n",
    "      useAutomationExtension = FALSE,\n",
    "      excludeSwitches = list(\n",
    "        \"enable-automation\"\n",
    "      )\n",
    ")\n",
    "\n",
    "rD <- rsDriver(verbose = FALSE, browser = \"chrome\", chromever = \"106.0.5249.61\",\n",
    "                extraCapabilities = eCaps)\n",
    "remDr <- rD$client\n",
    "remDr$maxWindowSize()\n",
    "remDr$navigate(\"https://infoshare.stats.govt.nz/infoshare/Default.aspx\")"
   ]
  },
  {
   "cell_type": "code",
   "execution_count": null,
   "id": "383157eb-089d-48ee-a79f-31da2100f223",
   "metadata": {},
   "outputs": [],
   "source": []
  }
 ],
 "metadata": {
  "kernelspec": {
   "display_name": "R",
   "language": "R",
   "name": "ir"
  },
  "language_info": {
   "codemirror_mode": "r",
   "file_extension": ".r",
   "mimetype": "text/x-r-source",
   "name": "R",
   "pygments_lexer": "r",
   "version": "4.2.1"
  }
 },
 "nbformat": 4,
 "nbformat_minor": 5
}
