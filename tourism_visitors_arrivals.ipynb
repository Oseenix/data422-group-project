{
 "cells": [
  {
   "cell_type": "code",
   "execution_count": 1,
   "id": "c47920c9",
   "metadata": {},
   "outputs": [],
   "source": [
    "library(rvest)"
   ]
  },
  {
   "cell_type": "code",
   "execution_count": 3,
   "id": "ab7e015e",
   "metadata": {},
   "outputs": [],
   "source": [
    "library(RSelenium)"
   ]
  },
  {
   "cell_type": "code",
   "execution_count": 4,
   "id": "95438ae9",
   "metadata": {},
   "outputs": [],
   "source": [
    "rD <- rsDriver(verbose = FALSE, port = 4444L,  browser = \"chrome\", chromever = \"106.0.5249.21\")"
   ]
  },
  {
   "cell_type": "code",
   "execution_count": 5,
   "id": "e154826d",
   "metadata": {},
   "outputs": [],
   "source": [
    "remDr <- rD$client\n",
    "remDr$navigate(\"https://www.stats.govt.nz/topics/tourism\")"
   ]
  },
  {
   "cell_type": "code",
   "execution_count": 6,
   "id": "c22b0386",
   "metadata": {},
   "outputs": [
    {
     "data": {
      "text/plain": [
       "{xml_nodeset (1)}\n",
       "[1] <table>\\n<thead><tr>\\n<th class=\"text\">Month-Year</th>\\n<th class=\"text\"> ..."
      ]
     },
     "metadata": {},
     "output_type": "display_data"
    }
   ],
   "source": [
    "elem <- remDr$findElement(using=\"css selector\", value=\"table\")\n",
    "web_page_src <- remDr$getPageSource()[[1]]\n",
    "web_page <- read_html(web_page_src)\n",
    "\n",
    "statsnz_data_html <- web_page %>%\n",
    "                      html_nodes(\"table\")\n",
    "statsnz_data_html"
   ]
  },
  {
   "cell_type": "code",
   "execution_count": 7,
   "id": "188fbdad",
   "metadata": {},
   "outputs": [
    {
     "data": {
      "text/html": [
       "<ol>\n",
       "\t<li><table class=\"dataframe\">\n",
       "<caption>A tibble: 121 × 3</caption>\n",
       "<thead>\n",
       "\t<tr><th scope=col>Month-Year</th><th scope=col>Actual</th><th scope=col>Seasonally adjusted</th></tr>\n",
       "\t<tr><th scope=col>&lt;chr&gt;</th><th scope=col>&lt;chr&gt;</th><th scope=col>&lt;chr&gt;</th></tr>\n",
       "</thead>\n",
       "<tbody>\n",
       "\t<tr><td>Jul-2012</td><td>173,539</td><td>211,860</td></tr>\n",
       "\t<tr><td>Aug-2012</td><td>178,298</td><td>219,550</td></tr>\n",
       "\t<tr><td>Sep-2012</td><td>179,069</td><td>214,660</td></tr>\n",
       "\t<tr><td>Oct-2012</td><td>184,200</td><td>215,070</td></tr>\n",
       "\t<tr><td>Nov-2012</td><td>232,119</td><td>213,460</td></tr>\n",
       "\t<tr><td>Dec-2012</td><td>363,959</td><td>220,730</td></tr>\n",
       "\t<tr><td>Jan-2013</td><td>260,637</td><td>214,540</td></tr>\n",
       "\t<tr><td>Feb-2013</td><td>281,233</td><td>218,910</td></tr>\n",
       "\t<tr><td>Mar-2013</td><td>270,740</td><td>224,190</td></tr>\n",
       "\t<tr><td>Apr-2013</td><td>200,583</td><td>229,490</td></tr>\n",
       "\t<tr><td>May-2013</td><td>153,034</td><td>225,290</td></tr>\n",
       "\t<tr><td>Jun-2013</td><td>159,485</td><td>226,210</td></tr>\n",
       "\t<tr><td>Jul-2013</td><td>183,718</td><td>229,730</td></tr>\n",
       "\t<tr><td>Aug-2013</td><td>189,284</td><td>233,580</td></tr>\n",
       "\t<tr><td>Sep-2013</td><td>191,056</td><td>232,140</td></tr>\n",
       "\t<tr><td>Oct-2013</td><td>194,973</td><td>226,840</td></tr>\n",
       "\t<tr><td>Nov-2013</td><td>251,060</td><td>229,870</td></tr>\n",
       "\t<tr><td>Dec-2013</td><td>381,892</td><td>233,900</td></tr>\n",
       "\t<tr><td>Jan-2014</td><td>292,446</td><td>235,910</td></tr>\n",
       "\t<tr><td>Feb-2014</td><td>301,165</td><td>236,620</td></tr>\n",
       "\t<tr><td>Mar-2014</td><td>253,561</td><td>230,620</td></tr>\n",
       "\t<tr><td>Apr-2014</td><td>224,194</td><td>231,090</td></tr>\n",
       "\t<tr><td>May-2014</td><td>161,355</td><td>235,240</td></tr>\n",
       "\t<tr><td>Jun-2014</td><td>162,122</td><td>237,140</td></tr>\n",
       "\t<tr><td>Jul-2014</td><td>196,856</td><td>241,230</td></tr>\n",
       "\t<tr><td>Aug-2014</td><td>188,849</td><td>237,380</td></tr>\n",
       "\t<tr><td>Sep-2014</td><td>193,329</td><td>237,540</td></tr>\n",
       "\t<tr><td>Oct-2014</td><td>210,597</td><td>243,730</td></tr>\n",
       "\t<tr><td>Nov-2014</td><td>270,408</td><td>245,870</td></tr>\n",
       "\t<tr><td>Dec-2014</td><td>402,518</td><td>247,880</td></tr>\n",
       "\t<tr><td>⋮</td><td>⋮</td><td>⋮</td></tr>\n",
       "\t<tr><td>Feb-2020</td><td>372,745</td><td>282,300</td></tr>\n",
       "\t<tr><td>Mar-2020</td><td>175,521</td><td>166,760</td></tr>\n",
       "\t<tr><td>Apr-2020</td><td>1,721  </td><td>1,721  </td></tr>\n",
       "\t<tr><td>May-2020</td><td>2,189  </td><td>2,189  </td></tr>\n",
       "\t<tr><td>Jun-2020</td><td>3,521  </td><td>3,521  </td></tr>\n",
       "\t<tr><td>Jul-2020</td><td>3,481  </td><td>3,481  </td></tr>\n",
       "\t<tr><td>Aug-2020</td><td>4,782  </td><td>4,782  </td></tr>\n",
       "\t<tr><td>Sep-2020</td><td>5,519  </td><td>5,519  </td></tr>\n",
       "\t<tr><td>Oct-2020</td><td>5,073  </td><td>5,073  </td></tr>\n",
       "\t<tr><td>Nov-2020</td><td>5,116  </td><td>5,116  </td></tr>\n",
       "\t<tr><td>Dec-2020</td><td>5,904  </td><td>5,904  </td></tr>\n",
       "\t<tr><td>Jan-2021</td><td>5,448  </td><td>5,448  </td></tr>\n",
       "\t<tr><td>Feb-2021</td><td>5,297  </td><td>5,297  </td></tr>\n",
       "\t<tr><td>Mar-2021</td><td>4,639  </td><td>4,639  </td></tr>\n",
       "\t<tr><td>Apr-2021</td><td>31,931 </td><td>31,931 </td></tr>\n",
       "\t<tr><td>May-2021</td><td>57,605 </td><td>57,605 </td></tr>\n",
       "\t<tr><td>Jun-2021</td><td>51,590 </td><td>51,590 </td></tr>\n",
       "\t<tr><td>Jul-2021</td><td>30,209 </td><td>30,209 </td></tr>\n",
       "\t<tr><td>Aug-2021</td><td>2,676  </td><td>2,676  </td></tr>\n",
       "\t<tr><td>Sep-2021</td><td>2,310  </td><td>2,310  </td></tr>\n",
       "\t<tr><td>Oct-2021</td><td>3,687  </td><td>3,687  </td></tr>\n",
       "\t<tr><td>Nov-2021</td><td>5,309  </td><td>5,309  </td></tr>\n",
       "\t<tr><td>Dec-2021</td><td>6,161  </td><td>6,161  </td></tr>\n",
       "\t<tr><td>Jan-2022</td><td>4,033  </td><td>4,033  </td></tr>\n",
       "\t<tr><td>Feb-2022</td><td>5,235  </td><td>5,235  </td></tr>\n",
       "\t<tr><td>Mar-2022</td><td>28,624 </td><td>28,624 </td></tr>\n",
       "\t<tr><td>Apr-2022</td><td>54,303 </td><td>54,303 </td></tr>\n",
       "\t<tr><td>May-2022</td><td>72,755 </td><td>72,755 </td></tr>\n",
       "\t<tr><td>Jun-2022</td><td>94,648 </td><td>94,648 </td></tr>\n",
       "\t<tr><td>Jul-2022</td><td>134,175</td><td>134,175</td></tr>\n",
       "</tbody>\n",
       "</table>\n",
       "</li>\n",
       "</ol>\n"
      ],
      "text/latex": [
       "\\begin{enumerate}\n",
       "\\item A tibble: 121 × 3\n",
       "\\begin{tabular}{lll}\n",
       " Month-Year & Actual & Seasonally adjusted\\\\\n",
       " <chr> & <chr> & <chr>\\\\\n",
       "\\hline\n",
       "\t Jul-2012 & 173,539 & 211,860\\\\\n",
       "\t Aug-2012 & 178,298 & 219,550\\\\\n",
       "\t Sep-2012 & 179,069 & 214,660\\\\\n",
       "\t Oct-2012 & 184,200 & 215,070\\\\\n",
       "\t Nov-2012 & 232,119 & 213,460\\\\\n",
       "\t Dec-2012 & 363,959 & 220,730\\\\\n",
       "\t Jan-2013 & 260,637 & 214,540\\\\\n",
       "\t Feb-2013 & 281,233 & 218,910\\\\\n",
       "\t Mar-2013 & 270,740 & 224,190\\\\\n",
       "\t Apr-2013 & 200,583 & 229,490\\\\\n",
       "\t May-2013 & 153,034 & 225,290\\\\\n",
       "\t Jun-2013 & 159,485 & 226,210\\\\\n",
       "\t Jul-2013 & 183,718 & 229,730\\\\\n",
       "\t Aug-2013 & 189,284 & 233,580\\\\\n",
       "\t Sep-2013 & 191,056 & 232,140\\\\\n",
       "\t Oct-2013 & 194,973 & 226,840\\\\\n",
       "\t Nov-2013 & 251,060 & 229,870\\\\\n",
       "\t Dec-2013 & 381,892 & 233,900\\\\\n",
       "\t Jan-2014 & 292,446 & 235,910\\\\\n",
       "\t Feb-2014 & 301,165 & 236,620\\\\\n",
       "\t Mar-2014 & 253,561 & 230,620\\\\\n",
       "\t Apr-2014 & 224,194 & 231,090\\\\\n",
       "\t May-2014 & 161,355 & 235,240\\\\\n",
       "\t Jun-2014 & 162,122 & 237,140\\\\\n",
       "\t Jul-2014 & 196,856 & 241,230\\\\\n",
       "\t Aug-2014 & 188,849 & 237,380\\\\\n",
       "\t Sep-2014 & 193,329 & 237,540\\\\\n",
       "\t Oct-2014 & 210,597 & 243,730\\\\\n",
       "\t Nov-2014 & 270,408 & 245,870\\\\\n",
       "\t Dec-2014 & 402,518 & 247,880\\\\\n",
       "\t ⋮ & ⋮ & ⋮\\\\\n",
       "\t Feb-2020 & 372,745 & 282,300\\\\\n",
       "\t Mar-2020 & 175,521 & 166,760\\\\\n",
       "\t Apr-2020 & 1,721   & 1,721  \\\\\n",
       "\t May-2020 & 2,189   & 2,189  \\\\\n",
       "\t Jun-2020 & 3,521   & 3,521  \\\\\n",
       "\t Jul-2020 & 3,481   & 3,481  \\\\\n",
       "\t Aug-2020 & 4,782   & 4,782  \\\\\n",
       "\t Sep-2020 & 5,519   & 5,519  \\\\\n",
       "\t Oct-2020 & 5,073   & 5,073  \\\\\n",
       "\t Nov-2020 & 5,116   & 5,116  \\\\\n",
       "\t Dec-2020 & 5,904   & 5,904  \\\\\n",
       "\t Jan-2021 & 5,448   & 5,448  \\\\\n",
       "\t Feb-2021 & 5,297   & 5,297  \\\\\n",
       "\t Mar-2021 & 4,639   & 4,639  \\\\\n",
       "\t Apr-2021 & 31,931  & 31,931 \\\\\n",
       "\t May-2021 & 57,605  & 57,605 \\\\\n",
       "\t Jun-2021 & 51,590  & 51,590 \\\\\n",
       "\t Jul-2021 & 30,209  & 30,209 \\\\\n",
       "\t Aug-2021 & 2,676   & 2,676  \\\\\n",
       "\t Sep-2021 & 2,310   & 2,310  \\\\\n",
       "\t Oct-2021 & 3,687   & 3,687  \\\\\n",
       "\t Nov-2021 & 5,309   & 5,309  \\\\\n",
       "\t Dec-2021 & 6,161   & 6,161  \\\\\n",
       "\t Jan-2022 & 4,033   & 4,033  \\\\\n",
       "\t Feb-2022 & 5,235   & 5,235  \\\\\n",
       "\t Mar-2022 & 28,624  & 28,624 \\\\\n",
       "\t Apr-2022 & 54,303  & 54,303 \\\\\n",
       "\t May-2022 & 72,755  & 72,755 \\\\\n",
       "\t Jun-2022 & 94,648  & 94,648 \\\\\n",
       "\t Jul-2022 & 134,175 & 134,175\\\\\n",
       "\\end{tabular}\n",
       "\n",
       "\\end{enumerate}\n"
      ],
      "text/markdown": [
       "1. \n",
       "A tibble: 121 × 3\n",
       "\n",
       "| Month-Year &lt;chr&gt; | Actual &lt;chr&gt; | Seasonally adjusted &lt;chr&gt; |\n",
       "|---|---|---|\n",
       "| Jul-2012 | 173,539 | 211,860 |\n",
       "| Aug-2012 | 178,298 | 219,550 |\n",
       "| Sep-2012 | 179,069 | 214,660 |\n",
       "| Oct-2012 | 184,200 | 215,070 |\n",
       "| Nov-2012 | 232,119 | 213,460 |\n",
       "| Dec-2012 | 363,959 | 220,730 |\n",
       "| Jan-2013 | 260,637 | 214,540 |\n",
       "| Feb-2013 | 281,233 | 218,910 |\n",
       "| Mar-2013 | 270,740 | 224,190 |\n",
       "| Apr-2013 | 200,583 | 229,490 |\n",
       "| May-2013 | 153,034 | 225,290 |\n",
       "| Jun-2013 | 159,485 | 226,210 |\n",
       "| Jul-2013 | 183,718 | 229,730 |\n",
       "| Aug-2013 | 189,284 | 233,580 |\n",
       "| Sep-2013 | 191,056 | 232,140 |\n",
       "| Oct-2013 | 194,973 | 226,840 |\n",
       "| Nov-2013 | 251,060 | 229,870 |\n",
       "| Dec-2013 | 381,892 | 233,900 |\n",
       "| Jan-2014 | 292,446 | 235,910 |\n",
       "| Feb-2014 | 301,165 | 236,620 |\n",
       "| Mar-2014 | 253,561 | 230,620 |\n",
       "| Apr-2014 | 224,194 | 231,090 |\n",
       "| May-2014 | 161,355 | 235,240 |\n",
       "| Jun-2014 | 162,122 | 237,140 |\n",
       "| Jul-2014 | 196,856 | 241,230 |\n",
       "| Aug-2014 | 188,849 | 237,380 |\n",
       "| Sep-2014 | 193,329 | 237,540 |\n",
       "| Oct-2014 | 210,597 | 243,730 |\n",
       "| Nov-2014 | 270,408 | 245,870 |\n",
       "| Dec-2014 | 402,518 | 247,880 |\n",
       "| ⋮ | ⋮ | ⋮ |\n",
       "| Feb-2020 | 372,745 | 282,300 |\n",
       "| Mar-2020 | 175,521 | 166,760 |\n",
       "| Apr-2020 | 1,721   | 1,721   |\n",
       "| May-2020 | 2,189   | 2,189   |\n",
       "| Jun-2020 | 3,521   | 3,521   |\n",
       "| Jul-2020 | 3,481   | 3,481   |\n",
       "| Aug-2020 | 4,782   | 4,782   |\n",
       "| Sep-2020 | 5,519   | 5,519   |\n",
       "| Oct-2020 | 5,073   | 5,073   |\n",
       "| Nov-2020 | 5,116   | 5,116   |\n",
       "| Dec-2020 | 5,904   | 5,904   |\n",
       "| Jan-2021 | 5,448   | 5,448   |\n",
       "| Feb-2021 | 5,297   | 5,297   |\n",
       "| Mar-2021 | 4,639   | 4,639   |\n",
       "| Apr-2021 | 31,931  | 31,931  |\n",
       "| May-2021 | 57,605  | 57,605  |\n",
       "| Jun-2021 | 51,590  | 51,590  |\n",
       "| Jul-2021 | 30,209  | 30,209  |\n",
       "| Aug-2021 | 2,676   | 2,676   |\n",
       "| Sep-2021 | 2,310   | 2,310   |\n",
       "| Oct-2021 | 3,687   | 3,687   |\n",
       "| Nov-2021 | 5,309   | 5,309   |\n",
       "| Dec-2021 | 6,161   | 6,161   |\n",
       "| Jan-2022 | 4,033   | 4,033   |\n",
       "| Feb-2022 | 5,235   | 5,235   |\n",
       "| Mar-2022 | 28,624  | 28,624  |\n",
       "| Apr-2022 | 54,303  | 54,303  |\n",
       "| May-2022 | 72,755  | 72,755  |\n",
       "| Jun-2022 | 94,648  | 94,648  |\n",
       "| Jul-2022 | 134,175 | 134,175 |\n",
       "\n",
       "\n",
       "\n",
       "\n"
      ],
      "text/plain": [
       "[[1]]\n",
       "\u001b[90m# A tibble: 121 × 3\u001b[39m\n",
       "   `Month-Year` Actual  `Seasonally adjusted`\n",
       "   \u001b[3m\u001b[90m<chr>\u001b[39m\u001b[23m        \u001b[3m\u001b[90m<chr>\u001b[39m\u001b[23m   \u001b[3m\u001b[90m<chr>\u001b[39m\u001b[23m                \n",
       "\u001b[90m 1\u001b[39m Jul-2012     173,539 211,860              \n",
       "\u001b[90m 2\u001b[39m Aug-2012     178,298 219,550              \n",
       "\u001b[90m 3\u001b[39m Sep-2012     179,069 214,660              \n",
       "\u001b[90m 4\u001b[39m Oct-2012     184,200 215,070              \n",
       "\u001b[90m 5\u001b[39m Nov-2012     232,119 213,460              \n",
       "\u001b[90m 6\u001b[39m Dec-2012     363,959 220,730              \n",
       "\u001b[90m 7\u001b[39m Jan-2013     260,637 214,540              \n",
       "\u001b[90m 8\u001b[39m Feb-2013     281,233 218,910              \n",
       "\u001b[90m 9\u001b[39m Mar-2013     270,740 224,190              \n",
       "\u001b[90m10\u001b[39m Apr-2013     200,583 229,490              \n",
       "\u001b[90m# … with 111 more rows\u001b[39m\n"
      ]
     },
     "metadata": {},
     "output_type": "display_data"
    }
   ],
   "source": [
    "table_node_table<-html_table(statsnz_data_html)\n",
    "table_node_table"
   ]
  },
  {
   "cell_type": "code",
   "execution_count": 12,
   "id": "6ccd4388",
   "metadata": {},
   "outputs": [],
   "source": [
    "table_node_table %>%\n",
    "    write.csv('data/tourism_international_visitors_arriavals_2012-2022.csv')"
   ]
  },
  {
   "cell_type": "code",
   "execution_count": 9,
   "id": "1a928458",
   "metadata": {},
   "outputs": [
    {
     "data": {
      "text/html": [
       "TRUE"
      ],
      "text/latex": [
       "TRUE"
      ],
      "text/markdown": [
       "TRUE"
      ],
      "text/plain": [
       "[1] TRUE"
      ]
     },
     "metadata": {},
     "output_type": "display_data"
    }
   ],
   "source": [
    "rD[[\"server\"]]$stop()"
   ]
  }
 ],
 "metadata": {
  "kernelspec": {
   "display_name": "R",
   "language": "R",
   "name": "ir"
  },
  "language_info": {
   "codemirror_mode": "r",
   "file_extension": ".r",
   "mimetype": "text/x-r-source",
   "name": "R",
   "pygments_lexer": "r",
   "version": "4.2.1"
  }
 },
 "nbformat": 4,
 "nbformat_minor": 5
}
