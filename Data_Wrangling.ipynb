{
 "cells": [
  {
   "cell_type": "markdown",
   "metadata": {},
   "source": [
    "## Introduction\n",
    "All data are time-series data, the maximum granularity of time is quarterly, the smaller granularity is monthly, occasionally there are several points in an individual month, we use the average value as the current month data, so that the minimum granularity can be considered as monthly.\n",
    "\n",
    "The data will be uniformly converted into two time scales, one monthly and one quarterly.\n",
    "- When data are transformed, quarterly data for non-rate of change will simply be treated as an arithmetic average of monthly data, such as the unemployment rate data.\n",
    "  $$unemployment\\_rate\\_Q1 = \\frac{unemployment\\_rate\\_Jan + unemployment\\_rate\\_Feb + unemployment\\_rate\\_Mar} {3}$$\n",
    "- When the data are converted, the quarterly data for the rate of change will simply be treated as the product of the months, as is the case with CPI data.\n",
    "  $$CPI\\_Q1 = ((1 + CPI\\_Jan) \\times (1 + CPI\\_Feb) \\times (1 + CPI\\_Mar)) - 1$$"
   ]
  },
  {
   "cell_type": "code",
   "execution_count": null,
   "metadata": {
    "vscode": {
     "languageId": "r"
    }
   },
   "outputs": [],
   "source": []
  }
 ],
 "metadata": {
  "kernelspec": {
   "display_name": "R",
   "language": "R",
   "name": "ir"
  },
  "language_info": {
   "name": "R"
  },
  "orig_nbformat": 4
 },
 "nbformat": 4,
 "nbformat_minor": 2
}
