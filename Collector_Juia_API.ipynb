{
 "cells": [
  {
   "cell_type": "markdown",
   "metadata": {},
   "source": [
    "## Introduction\n",
    "\n",
    "This notebook uses Julia to collect data from **interest.co.nz** & **www.ofx.com** and save data as csv files. The data including:\n",
    "- Official Cash Rate\n",
    "- CPI\n",
    "- Currency Exchange Rate\n",
    "  - NZD-USD\n",
    "  - NZD-RMB"
   ]
  },
  {
   "cell_type": "code",
   "execution_count": 7,
   "metadata": {},
   "outputs": [
    {
     "data": {
      "text/plain": [
       "\"/Users/zhoujinze/Documents/DataScience/ds-assessment/DATA-422/group project/data422-group-project\""
      ]
     },
     "execution_count": 7,
     "metadata": {},
     "output_type": "execute_result"
    }
   ],
   "source": [
    "using Pkg\n",
    "using HTTP\n",
    "using JSON\n",
    "using Dates\n",
    "using DataFrames\n",
    "using CSV\n",
    "\n",
    "dir = @__DIR__"
   ]
  },
  {
   "cell_type": "markdown",
   "metadata": {},
   "source": [
    "## Functions to Collect Data"
   ]
  },
  {
   "cell_type": "code",
   "execution_count": 22,
   "metadata": {},
   "outputs": [
    {
     "data": {
      "text/plain": [
       "get_save_csv (generic function with 1 method)"
      ]
     },
     "execution_count": 22,
     "metadata": {},
     "output_type": "execute_result"
    }
   ],
   "source": [
    "function save_csv(data::DataFrame, filename)\n",
    "    path = dir * \"/data/\" * filename\n",
    "    CSV.write(path, data)\n",
    "end\n",
    "\n",
    "function get_json(id::String)\n",
    "    resp = HTTP.request(\"POST\", \"https://www.interest.co.nz/chart-data/get-csv-data\";\n",
    "        headers = Dict(\"Content-Type\" => \"application/x-www-form-urlencoded; charset=utf-8\"),\n",
    "        body = HTTP.URIs.escapeuri(Dict(\"nids[]\" => id)))\n",
    "\n",
    "    json_body = JSON.parse(transcode(String, resp.body))\n",
    "    return json_body\n",
    "end\n",
    "\n",
    "function json2dataframe(id::String, json, colname)\n",
    "    lines = json[id][\"csv_data\"][1]\n",
    "\n",
    "    df = DataFrame(date = String[], data = Float64[])\n",
    "\n",
    "    for line in lines\n",
    "        t = unix2datetime(line[1] / 1000)\n",
    "        ts = Dates.format(t, \"Y-m-d\")\n",
    "        d = line[2]\n",
    "        push!(df, [ts, d])\n",
    "    end\n",
    "\n",
    "    rename!(df,:data => colname)\n",
    "\n",
    "end\n",
    "\n",
    "function get_save_csv(id::String, filename, colname)\n",
    "    json = get_json(id)\n",
    "    df = json2dataframe(id, json, colname)\n",
    "    save_csv(df, filename)\n",
    "end"
   ]
  },
  {
   "cell_type": "markdown",
   "metadata": {},
   "source": [
    "## Data"
   ]
  },
  {
   "cell_type": "code",
   "execution_count": 33,
   "metadata": {},
   "outputs": [
    {
     "data": {
      "text/plain": [
       "\"/Users/zhoujinze/Documents/DataScience/ds-assessment/DATA-422/group project/data422-group-project/data/hpi.csv\""
      ]
     },
     "execution_count": 33,
     "metadata": {},
     "output_type": "execute_result"
    }
   ],
   "source": [
    "# HPI data\n",
    "get_save_csv(\"79394\", \"hpi.csv\", \"HPI\")"
   ]
  },
  {
   "cell_type": "code",
   "execution_count": 23,
   "metadata": {},
   "outputs": [
    {
     "data": {
      "text/plain": [
       "\"/Users/zhoujinze/Documents/DataScience/ds-assessment/DATA-422/group project/data422-group-project/data/official_cash_rate.csv\""
      ]
     },
     "execution_count": 23,
     "metadata": {},
     "output_type": "execute_result"
    }
   ],
   "source": [
    "# official cash rate\n",
    "get_save_csv(\"79430\", \"official_cash_rate.csv\", \"ocr\")"
   ]
  },
  {
   "cell_type": "code",
   "execution_count": 25,
   "metadata": {},
   "outputs": [
    {
     "data": {
      "text/plain": [
       "\"/Users/zhoujinze/Documents/DataScience/ds-assessment/DATA-422/group project/data422-group-project/data/cpi_nz.csv\""
      ]
     },
     "execution_count": 25,
     "metadata": {},
     "output_type": "execute_result"
    }
   ],
   "source": [
    "# CPI of Newzealand\n",
    "get_save_csv(\"70951\", \"cpi_nz.csv\", \"CPI\")"
   ]
  },
  {
   "cell_type": "code",
   "execution_count": 27,
   "metadata": {},
   "outputs": [
    {
     "data": {
      "text/plain": [
       "\"/Users/zhoujinze/Documents/DataScience/ds-assessment/DATA-422/group project/data422-group-project/data/nzd-usd_exchange_rate.csv\""
      ]
     },
     "execution_count": 27,
     "metadata": {},
     "output_type": "execute_result"
    }
   ],
   "source": [
    "# nzd-usd echange rate\n",
    "get_save_csv(\"79333\", \"nzd-usd_exchange_rate.csv\", \"USD exchange rate\")"
   ]
  },
  {
   "cell_type": "markdown",
   "metadata": {},
   "source": [
    "We extract NZD-RMB data from **www.ofx.com**."
   ]
  },
  {
   "cell_type": "code",
   "execution_count": 31,
   "metadata": {},
   "outputs": [
    {
     "data": {
      "text/plain": [
       "\"/Users/zhoujinze/Documents/DataScience/ds-assessment/DATA-422/group project/data422-group-project/data/nzd-cny_exchange_rate.csv\""
      ]
     },
     "execution_count": 31,
     "metadata": {},
     "output_type": "execute_result"
    }
   ],
   "source": [
    "# URL: https://api.ofx.com/PublicSite.ApiService//SpotRateHistory/allTime/NZD/CNY?DecimalPlaces=6&ReportingInterval=monthly&format=json\n",
    "resp = HTTP.request(\"GET\", \"https://api.ofx.com/PublicSite.ApiService//SpotRateHistory/allTime/NZD/CNY\";\n",
    "    query = Dict(\"DecimalPlaces\" => \"6\", \"ReportingInterval\" => \"monthly\", \"format\" => \"json\"))\n",
    "\n",
    "nzd_cny_json =  JSON.parse(transcode(String, resp.body))\n",
    "nc_his = nzd_cny_json[\"HistoricalPoints\"]\n",
    "\n",
    "nc_df = DataFrame(date = String[], NZD_CNY_rate = Float64[], CNY_NZD_rate = Float64[])\n",
    "\n",
    "for nc in nc_his\n",
    "    d =  unix2datetime(nc[\"PointInTime\"]/1000)\n",
    "    dt = Dates.format(d, \"Y-m-d\")\n",
    "    ncr = nc[\"InterbankRate\"]\n",
    "    cnr = nc[\"InverseInterbankRate\"]\n",
    "    push!(nc_df, [dt, ncr, cnr])\n",
    "end\n",
    "\n",
    "save_csv(nc_df, \"nzd-cny_exchange_rate.csv\")\n"
   ]
  }
 ],
 "metadata": {
  "kernelspec": {
   "display_name": "Julia 1.7.3",
   "language": "julia",
   "name": "julia-1.7"
  },
  "language_info": {
   "file_extension": ".jl",
   "mimetype": "application/julia",
   "name": "julia",
   "version": "1.7.3"
  },
  "orig_nbformat": 4,
  "vscode": {
   "interpreter": {
    "hash": "aee8b7b246df8f9039afb4144a1f6fd8d2ca17a180786b69acc140d282b71a49"
   }
  }
 },
 "nbformat": 4,
 "nbformat_minor": 2
}
